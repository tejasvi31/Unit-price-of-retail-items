{
 "cells": [
  {
   "cell_type": "code",
   "execution_count": 2,
   "metadata": {},
   "outputs": [],
   "source": [
    "import pandas as pd \n",
    "import numpy as np\n",
    "import seaborn as sns\n",
    "import matplotlib.pyplot as plt\n",
    "%matplotlib inline"
   ]
  },
  {
   "cell_type": "code",
   "execution_count": 3,
   "metadata": {},
   "outputs": [],
   "source": [
    "traindata = pd.read_csv(\"Train.csv\",na_values=['',' ','NA'])\n",
    "testdata = pd.read_csv(\"Test.csv\",na_values=['',' ','NA'])\n",
    "# again = pd.read_csv('again.csv')"
   ]
  },
  {
   "cell_type": "code",
   "execution_count": 4,
   "metadata": {},
   "outputs": [
    {
     "data": {
      "text/html": [
       "<div>\n",
       "<style scoped>\n",
       "    .dataframe tbody tr th:only-of-type {\n",
       "        vertical-align: middle;\n",
       "    }\n",
       "\n",
       "    .dataframe tbody tr th {\n",
       "        vertical-align: top;\n",
       "    }\n",
       "\n",
       "    .dataframe thead th {\n",
       "        text-align: right;\n",
       "    }\n",
       "</style>\n",
       "<table border=\"1\" class=\"dataframe\">\n",
       "  <thead>\n",
       "    <tr style=\"text-align: right;\">\n",
       "      <th></th>\n",
       "      <th>InvoiceNo</th>\n",
       "      <th>StockCode</th>\n",
       "      <th>Description</th>\n",
       "      <th>Quantity</th>\n",
       "      <th>InvoiceDate</th>\n",
       "      <th>UnitPrice</th>\n",
       "      <th>CustomerID</th>\n",
       "      <th>Country</th>\n",
       "    </tr>\n",
       "  </thead>\n",
       "  <tbody>\n",
       "    <tr>\n",
       "      <th>0</th>\n",
       "      <td>6141</td>\n",
       "      <td>1583</td>\n",
       "      <td>144</td>\n",
       "      <td>3</td>\n",
       "      <td>2011-05-06 16:54:00</td>\n",
       "      <td>3.75</td>\n",
       "      <td>14056.0</td>\n",
       "      <td>35</td>\n",
       "    </tr>\n",
       "    <tr>\n",
       "      <th>1</th>\n",
       "      <td>6349</td>\n",
       "      <td>1300</td>\n",
       "      <td>3682</td>\n",
       "      <td>6</td>\n",
       "      <td>2011-05-11 07:35:00</td>\n",
       "      <td>1.95</td>\n",
       "      <td>13098.0</td>\n",
       "      <td>35</td>\n",
       "    </tr>\n",
       "    <tr>\n",
       "      <th>2</th>\n",
       "      <td>16783</td>\n",
       "      <td>2178</td>\n",
       "      <td>1939</td>\n",
       "      <td>4</td>\n",
       "      <td>2011-11-20 13:20:00</td>\n",
       "      <td>5.95</td>\n",
       "      <td>15044.0</td>\n",
       "      <td>35</td>\n",
       "    </tr>\n",
       "    <tr>\n",
       "      <th>3</th>\n",
       "      <td>16971</td>\n",
       "      <td>2115</td>\n",
       "      <td>2983</td>\n",
       "      <td>1</td>\n",
       "      <td>2011-11-22 12:07:00</td>\n",
       "      <td>0.83</td>\n",
       "      <td>15525.0</td>\n",
       "      <td>35</td>\n",
       "    </tr>\n",
       "    <tr>\n",
       "      <th>4</th>\n",
       "      <td>6080</td>\n",
       "      <td>1210</td>\n",
       "      <td>2886</td>\n",
       "      <td>12</td>\n",
       "      <td>2011-05-06 09:00:00</td>\n",
       "      <td>1.65</td>\n",
       "      <td>13952.0</td>\n",
       "      <td>35</td>\n",
       "    </tr>\n",
       "  </tbody>\n",
       "</table>\n",
       "</div>"
      ],
      "text/plain": [
       "   InvoiceNo  StockCode  Description  Quantity          InvoiceDate  \\\n",
       "0       6141       1583          144         3  2011-05-06 16:54:00   \n",
       "1       6349       1300         3682         6  2011-05-11 07:35:00   \n",
       "2      16783       2178         1939         4  2011-11-20 13:20:00   \n",
       "3      16971       2115         2983         1  2011-11-22 12:07:00   \n",
       "4       6080       1210         2886        12  2011-05-06 09:00:00   \n",
       "\n",
       "   UnitPrice  CustomerID  Country  \n",
       "0       3.75     14056.0       35  \n",
       "1       1.95     13098.0       35  \n",
       "2       5.95     15044.0       35  \n",
       "3       0.83     15525.0       35  \n",
       "4       1.65     13952.0       35  "
      ]
     },
     "execution_count": 4,
     "metadata": {},
     "output_type": "execute_result"
    }
   ],
   "source": [
    "traindata.head()"
   ]
  },
  {
   "cell_type": "markdown",
   "metadata": {},
   "source": [
    "#### Stats"
   ]
  },
  {
   "cell_type": "code",
   "execution_count": 5,
   "metadata": {},
   "outputs": [],
   "source": [
    "train_temp = traindata[['StockCode','UnitPrice','Description','CustomerID']]\n",
    "test_temp = testdata[['StockCode','Description','CustomerID']]"
   ]
  },
  {
   "cell_type": "code",
   "execution_count": 6,
   "metadata": {},
   "outputs": [],
   "source": [
    "#transform(lambda x: x.fillna(x.mean()))\n",
    "df = pd.DataFrame(train_temp.groupby(['StockCode'])['UnitPrice'].apply(lambda x: x.mean()))\n",
    "df['StockCode'] = df.index\n",
    "df = df.reset_index(drop=True)\n",
    "df= df[['StockCode','UnitPrice']]"
   ]
  },
  {
   "cell_type": "code",
   "execution_count": 7,
   "metadata": {},
   "outputs": [
    {
     "data": {
      "text/html": [
       "<div>\n",
       "<style scoped>\n",
       "    .dataframe tbody tr th:only-of-type {\n",
       "        vertical-align: middle;\n",
       "    }\n",
       "\n",
       "    .dataframe tbody tr th {\n",
       "        vertical-align: top;\n",
       "    }\n",
       "\n",
       "    .dataframe thead th {\n",
       "        text-align: right;\n",
       "    }\n",
       "</style>\n",
       "<table border=\"1\" class=\"dataframe\">\n",
       "  <thead>\n",
       "    <tr style=\"text-align: right;\">\n",
       "      <th></th>\n",
       "      <th>StockCode</th>\n",
       "      <th>UnitPrice</th>\n",
       "    </tr>\n",
       "  </thead>\n",
       "  <tbody>\n",
       "    <tr>\n",
       "      <th>0</th>\n",
       "      <td>0</td>\n",
       "      <td>0.850000</td>\n",
       "    </tr>\n",
       "    <tr>\n",
       "      <th>1</th>\n",
       "      <td>1</td>\n",
       "      <td>0.422857</td>\n",
       "    </tr>\n",
       "  </tbody>\n",
       "</table>\n",
       "</div>"
      ],
      "text/plain": [
       "   StockCode  UnitPrice\n",
       "0          0   0.850000\n",
       "1          1   0.422857"
      ]
     },
     "execution_count": 7,
     "metadata": {},
     "output_type": "execute_result"
    }
   ],
   "source": [
    "df.head(2)"
   ]
  },
  {
   "cell_type": "code",
   "execution_count": 8,
   "metadata": {},
   "outputs": [
    {
     "name": "stderr",
     "output_type": "stream",
     "text": [
      "<ipython-input-8-752d4ee9737c>:2: SettingWithCopyWarning: \n",
      "A value is trying to be set on a copy of a slice from a DataFrame.\n",
      "Try using .loc[row_indexer,col_indexer] = value instead\n",
      "\n",
      "See the caveats in the documentation: https://pandas.pydata.org/pandas-docs/stable/user_guide/indexing.html#returning-a-view-versus-a-copy\n",
      "  test_temp['UnitPrice'] = test_temp['StockCode'].map(a)\n"
     ]
    }
   ],
   "source": [
    "a= pd.Series(df.UnitPrice.values,index=df.StockCode).to_dict()\n",
    "test_temp['UnitPrice'] = test_temp['StockCode'].map(a)"
   ]
  },
  {
   "cell_type": "code",
   "execution_count": 9,
   "metadata": {},
   "outputs": [
    {
     "data": {
      "text/html": [
       "<div>\n",
       "<style scoped>\n",
       "    .dataframe tbody tr th:only-of-type {\n",
       "        vertical-align: middle;\n",
       "    }\n",
       "\n",
       "    .dataframe tbody tr th {\n",
       "        vertical-align: top;\n",
       "    }\n",
       "\n",
       "    .dataframe thead th {\n",
       "        text-align: right;\n",
       "    }\n",
       "</style>\n",
       "<table border=\"1\" class=\"dataframe\">\n",
       "  <thead>\n",
       "    <tr style=\"text-align: right;\">\n",
       "      <th></th>\n",
       "      <th>StockCode</th>\n",
       "      <th>Description</th>\n",
       "      <th>CustomerID</th>\n",
       "      <th>UnitPrice</th>\n",
       "    </tr>\n",
       "  </thead>\n",
       "  <tbody>\n",
       "    <tr>\n",
       "      <th>0</th>\n",
       "      <td>1709</td>\n",
       "      <td>1079</td>\n",
       "      <td>16161.0</td>\n",
       "      <td>1.650000</td>\n",
       "    </tr>\n",
       "    <tr>\n",
       "      <th>1</th>\n",
       "      <td>510</td>\n",
       "      <td>3457</td>\n",
       "      <td>17341.0</td>\n",
       "      <td>1.193421</td>\n",
       "    </tr>\n",
       "    <tr>\n",
       "      <th>2</th>\n",
       "      <td>604</td>\n",
       "      <td>694</td>\n",
       "      <td>15158.0</td>\n",
       "      <td>3.867050</td>\n",
       "    </tr>\n",
       "  </tbody>\n",
       "</table>\n",
       "</div>"
      ],
      "text/plain": [
       "   StockCode  Description  CustomerID  UnitPrice\n",
       "0       1709         1079     16161.0   1.650000\n",
       "1        510         3457     17341.0   1.193421\n",
       "2        604          694     15158.0   3.867050"
      ]
     },
     "execution_count": 9,
     "metadata": {},
     "output_type": "execute_result"
    }
   ],
   "source": [
    "test_temp.head(3)"
   ]
  },
  {
   "cell_type": "code",
   "execution_count": 10,
   "metadata": {},
   "outputs": [
    {
     "name": "stderr",
     "output_type": "stream",
     "text": [
      "<ipython-input-10-4c9a6c0576e0>:1: SettingWithCopyWarning: \n",
      "A value is trying to be set on a copy of a slice from a DataFrame.\n",
      "Try using .loc[row_indexer,col_indexer] = value instead\n",
      "\n",
      "See the caveats in the documentation: https://pandas.pydata.org/pandas-docs/stable/user_guide/indexing.html#returning-a-view-versus-a-copy\n",
      "  test_temp['Index'] = test_temp.index\n"
     ]
    }
   ],
   "source": [
    "test_temp['Index'] = test_temp.index"
   ]
  },
  {
   "cell_type": "code",
   "execution_count": 11,
   "metadata": {},
   "outputs": [],
   "source": [
    "#test_temp.loc[test_temp.StockCode == 3680]"
   ]
  },
  {
   "cell_type": "code",
   "execution_count": 12,
   "metadata": {},
   "outputs": [
    {
     "name": "stdout",
     "output_type": "stream",
     "text": [
      "StockCode       0\n",
      "Description     0\n",
      "CustomerID      0\n",
      "UnitPrice      91\n",
      "Index           0\n",
      "dtype: int64\n"
     ]
    }
   ],
   "source": [
    "print(test_temp.isnull().sum())"
   ]
  },
  {
   "cell_type": "code",
   "execution_count": 13,
   "metadata": {},
   "outputs": [
    {
     "data": {
      "text/plain": [
       "(91, 5)"
      ]
     },
     "execution_count": 13,
     "metadata": {},
     "output_type": "execute_result"
    }
   ],
   "source": [
    "null_df = test_temp[test_temp.isna().any(axis=1)]\n",
    "null_df.shape"
   ]
  },
  {
   "cell_type": "code",
   "execution_count": 14,
   "metadata": {},
   "outputs": [],
   "source": [
    "#transform(lambda x: x.fillna(x.mean()))\n",
    "df1 = pd.DataFrame(train_temp.groupby(['Description'])['UnitPrice'].apply(lambda x: x.mean()))\n",
    "df1['Description'] = df1.index\n",
    "df1 = df1.reset_index(drop=True)\n",
    "df1= df1[['Description','UnitPrice']]"
   ]
  },
  {
   "cell_type": "code",
   "execution_count": 15,
   "metadata": {},
   "outputs": [
    {
     "data": {
      "text/plain": [
       "(3819, 2)"
      ]
     },
     "execution_count": 15,
     "metadata": {},
     "output_type": "execute_result"
    }
   ],
   "source": [
    "df1.shape"
   ]
  },
  {
   "cell_type": "code",
   "execution_count": 16,
   "metadata": {},
   "outputs": [
    {
     "data": {
      "text/plain": [
       "RangeIndex(start=0, stop=122049, step=1)"
      ]
     },
     "execution_count": 16,
     "metadata": {},
     "output_type": "execute_result"
    }
   ],
   "source": [
    "test_temp.index"
   ]
  },
  {
   "cell_type": "code",
   "execution_count": 18,
   "metadata": {},
   "outputs": [],
   "source": [
    "# a= pd.Series(again.UnitPrice.values,index=again.index).to_dict()\n",
    "# test_temp['UnitPrice'] = test_temp.UnitPrice.fillna(test_temp['Index'].map(a))"
   ]
  },
  {
   "cell_type": "code",
   "execution_count": 19,
   "metadata": {},
   "outputs": [],
   "source": [
    "#transform(lambda x: x.fillna(x.mean()))\n",
    "df2 = pd.DataFrame(train_temp.groupby(['CustomerID'])['UnitPrice'].apply(lambda x: x.mean()))\n",
    "df2['CustomerID'] = df2.index\n",
    "df2 = df2.reset_index(drop=True)\n",
    "df2= df2[['CustomerID','UnitPrice']]"
   ]
  },
  {
   "cell_type": "code",
   "execution_count": 20,
   "metadata": {},
   "outputs": [
    {
     "data": {
      "text/plain": [
       "(4339, 2)"
      ]
     },
     "execution_count": 20,
     "metadata": {},
     "output_type": "execute_result"
    }
   ],
   "source": [
    "df2.shape"
   ]
  },
  {
   "cell_type": "code",
   "execution_count": 21,
   "metadata": {},
   "outputs": [
    {
     "name": "stderr",
     "output_type": "stream",
     "text": [
      "<ipython-input-21-d4f34ac7a8cf>:2: SettingWithCopyWarning: \n",
      "A value is trying to be set on a copy of a slice from a DataFrame.\n",
      "Try using .loc[row_indexer,col_indexer] = value instead\n",
      "\n",
      "See the caveats in the documentation: https://pandas.pydata.org/pandas-docs/stable/user_guide/indexing.html#returning-a-view-versus-a-copy\n",
      "  test_temp['UnitPrice'] = test_temp.UnitPrice.fillna(test_temp['CustomerID'].map(a))\n"
     ]
    }
   ],
   "source": [
    "a= pd.Series(df2.UnitPrice.values,index=df2.CustomerID).to_dict()\n",
    "test_temp['UnitPrice'] = test_temp.UnitPrice.fillna(test_temp['CustomerID'].map(a))"
   ]
  },
  {
   "cell_type": "code",
   "execution_count": 22,
   "metadata": {},
   "outputs": [
    {
     "data": {
      "text/html": [
       "<div>\n",
       "<style scoped>\n",
       "    .dataframe tbody tr th:only-of-type {\n",
       "        vertical-align: middle;\n",
       "    }\n",
       "\n",
       "    .dataframe tbody tr th {\n",
       "        vertical-align: top;\n",
       "    }\n",
       "\n",
       "    .dataframe thead th {\n",
       "        text-align: right;\n",
       "    }\n",
       "</style>\n",
       "<table border=\"1\" class=\"dataframe\">\n",
       "  <thead>\n",
       "    <tr style=\"text-align: right;\">\n",
       "      <th></th>\n",
       "      <th>StockCode</th>\n",
       "      <th>Description</th>\n",
       "      <th>CustomerID</th>\n",
       "      <th>UnitPrice</th>\n",
       "      <th>Index</th>\n",
       "    </tr>\n",
       "  </thead>\n",
       "  <tbody>\n",
       "    <tr>\n",
       "      <th>0</th>\n",
       "      <td>1709</td>\n",
       "      <td>1079</td>\n",
       "      <td>16161.0</td>\n",
       "      <td>1.650000</td>\n",
       "      <td>0</td>\n",
       "    </tr>\n",
       "    <tr>\n",
       "      <th>1</th>\n",
       "      <td>510</td>\n",
       "      <td>3457</td>\n",
       "      <td>17341.0</td>\n",
       "      <td>1.193421</td>\n",
       "      <td>1</td>\n",
       "    </tr>\n",
       "    <tr>\n",
       "      <th>2</th>\n",
       "      <td>604</td>\n",
       "      <td>694</td>\n",
       "      <td>15158.0</td>\n",
       "      <td>3.867050</td>\n",
       "      <td>2</td>\n",
       "    </tr>\n",
       "    <tr>\n",
       "      <th>3</th>\n",
       "      <td>1478</td>\n",
       "      <td>3473</td>\n",
       "      <td>16033.0</td>\n",
       "      <td>1.641111</td>\n",
       "      <td>3</td>\n",
       "    </tr>\n",
       "    <tr>\n",
       "      <th>4</th>\n",
       "      <td>3216</td>\n",
       "      <td>871</td>\n",
       "      <td>15351.0</td>\n",
       "      <td>12.610985</td>\n",
       "      <td>4</td>\n",
       "    </tr>\n",
       "  </tbody>\n",
       "</table>\n",
       "</div>"
      ],
      "text/plain": [
       "   StockCode  Description  CustomerID  UnitPrice  Index\n",
       "0       1709         1079     16161.0   1.650000      0\n",
       "1        510         3457     17341.0   1.193421      1\n",
       "2        604          694     15158.0   3.867050      2\n",
       "3       1478         3473     16033.0   1.641111      3\n",
       "4       3216          871     15351.0  12.610985      4"
      ]
     },
     "execution_count": 22,
     "metadata": {},
     "output_type": "execute_result"
    }
   ],
   "source": [
    "test_temp.head()"
   ]
  },
  {
   "cell_type": "code",
   "execution_count": 23,
   "metadata": {},
   "outputs": [],
   "source": [
    "#test_temp.fillna(16, inplace=True)\n",
    "test_temp = test_temp[['UnitPrice']]\n",
    "test_temp.to_csv('withagain.csv', index=False)"
   ]
  },
  {
   "cell_type": "code",
   "execution_count": 24,
   "metadata": {},
   "outputs": [],
   "source": [
    "#a= pd.Series(pred1.UnitPrice.values,index=pred1.StockCode).to_dict()\n",
    "#test_temp['UnitPrice'] = test_temp.UnitPrice.fillna(test_temp['StockCode'].map(a))"
   ]
  },
  {
   "cell_type": "markdown",
   "metadata": {},
   "source": [
    "#### EDA"
   ]
  },
  {
   "cell_type": "code",
   "execution_count": 25,
   "metadata": {},
   "outputs": [
    {
     "data": {
      "text/html": [
       "<div>\n",
       "<style scoped>\n",
       "    .dataframe tbody tr th:only-of-type {\n",
       "        vertical-align: middle;\n",
       "    }\n",
       "\n",
       "    .dataframe tbody tr th {\n",
       "        vertical-align: top;\n",
       "    }\n",
       "\n",
       "    .dataframe thead th {\n",
       "        text-align: right;\n",
       "    }\n",
       "</style>\n",
       "<table border=\"1\" class=\"dataframe\">\n",
       "  <thead>\n",
       "    <tr style=\"text-align: right;\">\n",
       "      <th></th>\n",
       "      <th>InvoiceNo</th>\n",
       "      <th>StockCode</th>\n",
       "      <th>Description</th>\n",
       "      <th>Quantity</th>\n",
       "      <th>InvoiceDate</th>\n",
       "      <th>UnitPrice</th>\n",
       "      <th>CustomerID</th>\n",
       "      <th>Country</th>\n",
       "    </tr>\n",
       "  </thead>\n",
       "  <tbody>\n",
       "    <tr>\n",
       "      <th>0</th>\n",
       "      <td>6141</td>\n",
       "      <td>1583</td>\n",
       "      <td>144</td>\n",
       "      <td>3</td>\n",
       "      <td>2011-05-06 16:54:00</td>\n",
       "      <td>3.75</td>\n",
       "      <td>14056.0</td>\n",
       "      <td>35</td>\n",
       "    </tr>\n",
       "    <tr>\n",
       "      <th>1</th>\n",
       "      <td>6349</td>\n",
       "      <td>1300</td>\n",
       "      <td>3682</td>\n",
       "      <td>6</td>\n",
       "      <td>2011-05-11 07:35:00</td>\n",
       "      <td>1.95</td>\n",
       "      <td>13098.0</td>\n",
       "      <td>35</td>\n",
       "    </tr>\n",
       "    <tr>\n",
       "      <th>2</th>\n",
       "      <td>16783</td>\n",
       "      <td>2178</td>\n",
       "      <td>1939</td>\n",
       "      <td>4</td>\n",
       "      <td>2011-11-20 13:20:00</td>\n",
       "      <td>5.95</td>\n",
       "      <td>15044.0</td>\n",
       "      <td>35</td>\n",
       "    </tr>\n",
       "    <tr>\n",
       "      <th>3</th>\n",
       "      <td>16971</td>\n",
       "      <td>2115</td>\n",
       "      <td>2983</td>\n",
       "      <td>1</td>\n",
       "      <td>2011-11-22 12:07:00</td>\n",
       "      <td>0.83</td>\n",
       "      <td>15525.0</td>\n",
       "      <td>35</td>\n",
       "    </tr>\n",
       "    <tr>\n",
       "      <th>4</th>\n",
       "      <td>6080</td>\n",
       "      <td>1210</td>\n",
       "      <td>2886</td>\n",
       "      <td>12</td>\n",
       "      <td>2011-05-06 09:00:00</td>\n",
       "      <td>1.65</td>\n",
       "      <td>13952.0</td>\n",
       "      <td>35</td>\n",
       "    </tr>\n",
       "  </tbody>\n",
       "</table>\n",
       "</div>"
      ],
      "text/plain": [
       "   InvoiceNo  StockCode  Description  Quantity          InvoiceDate  \\\n",
       "0       6141       1583          144         3  2011-05-06 16:54:00   \n",
       "1       6349       1300         3682         6  2011-05-11 07:35:00   \n",
       "2      16783       2178         1939         4  2011-11-20 13:20:00   \n",
       "3      16971       2115         2983         1  2011-11-22 12:07:00   \n",
       "4       6080       1210         2886        12  2011-05-06 09:00:00   \n",
       "\n",
       "   UnitPrice  CustomerID  Country  \n",
       "0       3.75     14056.0       35  \n",
       "1       1.95     13098.0       35  \n",
       "2       5.95     15044.0       35  \n",
       "3       0.83     15525.0       35  \n",
       "4       1.65     13952.0       35  "
      ]
     },
     "execution_count": 25,
     "metadata": {},
     "output_type": "execute_result"
    }
   ],
   "source": [
    "traindata.head()"
   ]
  },
  {
   "cell_type": "code",
   "execution_count": 26,
   "metadata": {},
   "outputs": [
    {
     "data": {
      "text/html": [
       "<div>\n",
       "<style scoped>\n",
       "    .dataframe tbody tr th:only-of-type {\n",
       "        vertical-align: middle;\n",
       "    }\n",
       "\n",
       "    .dataframe tbody tr th {\n",
       "        vertical-align: top;\n",
       "    }\n",
       "\n",
       "    .dataframe thead th {\n",
       "        text-align: right;\n",
       "    }\n",
       "</style>\n",
       "<table border=\"1\" class=\"dataframe\">\n",
       "  <thead>\n",
       "    <tr style=\"text-align: right;\">\n",
       "      <th></th>\n",
       "      <th>InvoiceNo</th>\n",
       "      <th>StockCode</th>\n",
       "      <th>Description</th>\n",
       "      <th>Quantity</th>\n",
       "      <th>InvoiceDate</th>\n",
       "      <th>CustomerID</th>\n",
       "      <th>Country</th>\n",
       "    </tr>\n",
       "  </thead>\n",
       "  <tbody>\n",
       "    <tr>\n",
       "      <th>0</th>\n",
       "      <td>3139</td>\n",
       "      <td>1709</td>\n",
       "      <td>1079</td>\n",
       "      <td>3</td>\n",
       "      <td>2011-02-22 15:22:00</td>\n",
       "      <td>16161.0</td>\n",
       "      <td>35</td>\n",
       "    </tr>\n",
       "    <tr>\n",
       "      <th>1</th>\n",
       "      <td>617</td>\n",
       "      <td>510</td>\n",
       "      <td>3457</td>\n",
       "      <td>1</td>\n",
       "      <td>2010-12-08 12:46:00</td>\n",
       "      <td>17341.0</td>\n",
       "      <td>35</td>\n",
       "    </tr>\n",
       "    <tr>\n",
       "      <th>2</th>\n",
       "      <td>14653</td>\n",
       "      <td>604</td>\n",
       "      <td>694</td>\n",
       "      <td>36</td>\n",
       "      <td>2011-10-25 13:53:00</td>\n",
       "      <td>15158.0</td>\n",
       "      <td>35</td>\n",
       "    </tr>\n",
       "    <tr>\n",
       "      <th>3</th>\n",
       "      <td>8634</td>\n",
       "      <td>1478</td>\n",
       "      <td>3473</td>\n",
       "      <td>2</td>\n",
       "      <td>2011-06-27 12:38:00</td>\n",
       "      <td>16033.0</td>\n",
       "      <td>35</td>\n",
       "    </tr>\n",
       "    <tr>\n",
       "      <th>4</th>\n",
       "      <td>15546</td>\n",
       "      <td>3216</td>\n",
       "      <td>871</td>\n",
       "      <td>1</td>\n",
       "      <td>2011-11-06 16:14:00</td>\n",
       "      <td>15351.0</td>\n",
       "      <td>35</td>\n",
       "    </tr>\n",
       "  </tbody>\n",
       "</table>\n",
       "</div>"
      ],
      "text/plain": [
       "   InvoiceNo  StockCode  Description  Quantity          InvoiceDate  \\\n",
       "0       3139       1709         1079         3  2011-02-22 15:22:00   \n",
       "1        617        510         3457         1  2010-12-08 12:46:00   \n",
       "2      14653        604          694        36  2011-10-25 13:53:00   \n",
       "3       8634       1478         3473         2  2011-06-27 12:38:00   \n",
       "4      15546       3216          871         1  2011-11-06 16:14:00   \n",
       "\n",
       "   CustomerID  Country  \n",
       "0     16161.0       35  \n",
       "1     17341.0       35  \n",
       "2     15158.0       35  \n",
       "3     16033.0       35  \n",
       "4     15351.0       35  "
      ]
     },
     "execution_count": 26,
     "metadata": {},
     "output_type": "execute_result"
    }
   ],
   "source": [
    "testdata.head()"
   ]
  },
  {
   "cell_type": "code",
   "execution_count": 27,
   "metadata": {},
   "outputs": [],
   "source": [
    "#import pandas_profiling as pp\n",
    "#pp.ProfileReport(traindata)"
   ]
  },
  {
   "cell_type": "code",
   "execution_count": 28,
   "metadata": {},
   "outputs": [
    {
     "name": "stdout",
     "output_type": "stream",
     "text": [
      "(284780, 8)\n",
      "(122049, 7)\n"
     ]
    }
   ],
   "source": [
    "print(traindata.shape)\n",
    "print(testdata.shape)"
   ]
  },
  {
   "cell_type": "code",
   "execution_count": 29,
   "metadata": {},
   "outputs": [
    {
     "data": {
      "text/html": [
       "<div>\n",
       "<style scoped>\n",
       "    .dataframe tbody tr th:only-of-type {\n",
       "        vertical-align: middle;\n",
       "    }\n",
       "\n",
       "    .dataframe tbody tr th {\n",
       "        vertical-align: top;\n",
       "    }\n",
       "\n",
       "    .dataframe thead th {\n",
       "        text-align: right;\n",
       "    }\n",
       "</style>\n",
       "<table border=\"1\" class=\"dataframe\">\n",
       "  <thead>\n",
       "    <tr style=\"text-align: right;\">\n",
       "      <th></th>\n",
       "      <th>InvoiceNo</th>\n",
       "      <th>StockCode</th>\n",
       "      <th>Description</th>\n",
       "      <th>Quantity</th>\n",
       "      <th>UnitPrice</th>\n",
       "      <th>CustomerID</th>\n",
       "      <th>Country</th>\n",
       "    </tr>\n",
       "  </thead>\n",
       "  <tbody>\n",
       "    <tr>\n",
       "      <th>count</th>\n",
       "      <td>284780.000000</td>\n",
       "      <td>284780.000000</td>\n",
       "      <td>284780.000000</td>\n",
       "      <td>284780.000000</td>\n",
       "      <td>284780.000000</td>\n",
       "      <td>284780.000000</td>\n",
       "      <td>284780.000000</td>\n",
       "    </tr>\n",
       "    <tr>\n",
       "      <th>mean</th>\n",
       "      <td>9955.394083</td>\n",
       "      <td>1573.386807</td>\n",
       "      <td>2023.955573</td>\n",
       "      <td>12.028468</td>\n",
       "      <td>3.451216</td>\n",
       "      <td>15288.224278</td>\n",
       "      <td>32.823846</td>\n",
       "    </tr>\n",
       "    <tr>\n",
       "      <th>std</th>\n",
       "      <td>5551.519138</td>\n",
       "      <td>843.604991</td>\n",
       "      <td>1089.812078</td>\n",
       "      <td>295.111588</td>\n",
       "      <td>78.399541</td>\n",
       "      <td>1714.336529</td>\n",
       "      <td>6.743602</td>\n",
       "    </tr>\n",
       "    <tr>\n",
       "      <th>min</th>\n",
       "      <td>0.000000</td>\n",
       "      <td>0.000000</td>\n",
       "      <td>0.000000</td>\n",
       "      <td>-80995.000000</td>\n",
       "      <td>0.000000</td>\n",
       "      <td>12346.000000</td>\n",
       "      <td>0.000000</td>\n",
       "    </tr>\n",
       "    <tr>\n",
       "      <th>25%</th>\n",
       "      <td>5069.000000</td>\n",
       "      <td>939.000000</td>\n",
       "      <td>1141.000000</td>\n",
       "      <td>2.000000</td>\n",
       "      <td>1.250000</td>\n",
       "      <td>13953.000000</td>\n",
       "      <td>35.000000</td>\n",
       "    </tr>\n",
       "    <tr>\n",
       "      <th>50%</th>\n",
       "      <td>10310.000000</td>\n",
       "      <td>1521.000000</td>\n",
       "      <td>1987.000000</td>\n",
       "      <td>5.000000</td>\n",
       "      <td>1.950000</td>\n",
       "      <td>15152.000000</td>\n",
       "      <td>35.000000</td>\n",
       "    </tr>\n",
       "    <tr>\n",
       "      <th>75%</th>\n",
       "      <td>14657.000000</td>\n",
       "      <td>2106.000000</td>\n",
       "      <td>2945.000000</td>\n",
       "      <td>12.000000</td>\n",
       "      <td>3.750000</td>\n",
       "      <td>16794.000000</td>\n",
       "      <td>35.000000</td>\n",
       "    </tr>\n",
       "    <tr>\n",
       "      <th>max</th>\n",
       "      <td>22188.000000</td>\n",
       "      <td>3683.000000</td>\n",
       "      <td>3895.000000</td>\n",
       "      <td>80995.000000</td>\n",
       "      <td>38970.000000</td>\n",
       "      <td>18287.000000</td>\n",
       "      <td>36.000000</td>\n",
       "    </tr>\n",
       "  </tbody>\n",
       "</table>\n",
       "</div>"
      ],
      "text/plain": [
       "           InvoiceNo      StockCode    Description       Quantity  \\\n",
       "count  284780.000000  284780.000000  284780.000000  284780.000000   \n",
       "mean     9955.394083    1573.386807    2023.955573      12.028468   \n",
       "std      5551.519138     843.604991    1089.812078     295.111588   \n",
       "min         0.000000       0.000000       0.000000  -80995.000000   \n",
       "25%      5069.000000     939.000000    1141.000000       2.000000   \n",
       "50%     10310.000000    1521.000000    1987.000000       5.000000   \n",
       "75%     14657.000000    2106.000000    2945.000000      12.000000   \n",
       "max     22188.000000    3683.000000    3895.000000   80995.000000   \n",
       "\n",
       "           UnitPrice     CustomerID        Country  \n",
       "count  284780.000000  284780.000000  284780.000000  \n",
       "mean        3.451216   15288.224278      32.823846  \n",
       "std        78.399541    1714.336529       6.743602  \n",
       "min         0.000000   12346.000000       0.000000  \n",
       "25%         1.250000   13953.000000      35.000000  \n",
       "50%         1.950000   15152.000000      35.000000  \n",
       "75%         3.750000   16794.000000      35.000000  \n",
       "max     38970.000000   18287.000000      36.000000  "
      ]
     },
     "execution_count": 29,
     "metadata": {},
     "output_type": "execute_result"
    }
   ],
   "source": [
    "traindata.describe()"
   ]
  },
  {
   "cell_type": "code",
   "execution_count": 30,
   "metadata": {},
   "outputs": [
    {
     "data": {
      "text/html": [
       "<div>\n",
       "<style scoped>\n",
       "    .dataframe tbody tr th:only-of-type {\n",
       "        vertical-align: middle;\n",
       "    }\n",
       "\n",
       "    .dataframe tbody tr th {\n",
       "        vertical-align: top;\n",
       "    }\n",
       "\n",
       "    .dataframe thead th {\n",
       "        text-align: right;\n",
       "    }\n",
       "</style>\n",
       "<table border=\"1\" class=\"dataframe\">\n",
       "  <thead>\n",
       "    <tr style=\"text-align: right;\">\n",
       "      <th></th>\n",
       "      <th>InvoiceNo</th>\n",
       "      <th>StockCode</th>\n",
       "      <th>Description</th>\n",
       "      <th>Quantity</th>\n",
       "      <th>CustomerID</th>\n",
       "      <th>Country</th>\n",
       "    </tr>\n",
       "  </thead>\n",
       "  <tbody>\n",
       "    <tr>\n",
       "      <th>count</th>\n",
       "      <td>122049.000000</td>\n",
       "      <td>122049.000000</td>\n",
       "      <td>122049.000000</td>\n",
       "      <td>122049.000000</td>\n",
       "      <td>122049.000000</td>\n",
       "      <td>122049.000000</td>\n",
       "    </tr>\n",
       "    <tr>\n",
       "      <th>mean</th>\n",
       "      <td>9940.419692</td>\n",
       "      <td>1572.955788</td>\n",
       "      <td>2026.412744</td>\n",
       "      <td>12.137920</td>\n",
       "      <td>15286.445256</td>\n",
       "      <td>32.836795</td>\n",
       "    </tr>\n",
       "    <tr>\n",
       "      <th>std</th>\n",
       "      <td>5554.116349</td>\n",
       "      <td>845.106082</td>\n",
       "      <td>1087.697388</td>\n",
       "      <td>54.311646</td>\n",
       "      <td>1711.887591</td>\n",
       "      <td>6.726816</td>\n",
       "    </tr>\n",
       "    <tr>\n",
       "      <th>min</th>\n",
       "      <td>0.000000</td>\n",
       "      <td>0.000000</td>\n",
       "      <td>0.000000</td>\n",
       "      <td>-9360.000000</td>\n",
       "      <td>12347.000000</td>\n",
       "      <td>0.000000</td>\n",
       "    </tr>\n",
       "    <tr>\n",
       "      <th>25%</th>\n",
       "      <td>5018.000000</td>\n",
       "      <td>937.000000</td>\n",
       "      <td>1147.000000</td>\n",
       "      <td>2.000000</td>\n",
       "      <td>13953.000000</td>\n",
       "      <td>35.000000</td>\n",
       "    </tr>\n",
       "    <tr>\n",
       "      <th>50%</th>\n",
       "      <td>10311.000000</td>\n",
       "      <td>1523.000000</td>\n",
       "      <td>1987.000000</td>\n",
       "      <td>5.000000</td>\n",
       "      <td>15152.000000</td>\n",
       "      <td>35.000000</td>\n",
       "    </tr>\n",
       "    <tr>\n",
       "      <th>75%</th>\n",
       "      <td>14635.000000</td>\n",
       "      <td>2106.000000</td>\n",
       "      <td>2945.000000</td>\n",
       "      <td>12.000000</td>\n",
       "      <td>16782.000000</td>\n",
       "      <td>35.000000</td>\n",
       "    </tr>\n",
       "    <tr>\n",
       "      <th>max</th>\n",
       "      <td>22189.000000</td>\n",
       "      <td>3683.000000</td>\n",
       "      <td>3895.000000</td>\n",
       "      <td>4800.000000</td>\n",
       "      <td>18287.000000</td>\n",
       "      <td>36.000000</td>\n",
       "    </tr>\n",
       "  </tbody>\n",
       "</table>\n",
       "</div>"
      ],
      "text/plain": [
       "           InvoiceNo      StockCode    Description       Quantity  \\\n",
       "count  122049.000000  122049.000000  122049.000000  122049.000000   \n",
       "mean     9940.419692    1572.955788    2026.412744      12.137920   \n",
       "std      5554.116349     845.106082    1087.697388      54.311646   \n",
       "min         0.000000       0.000000       0.000000   -9360.000000   \n",
       "25%      5018.000000     937.000000    1147.000000       2.000000   \n",
       "50%     10311.000000    1523.000000    1987.000000       5.000000   \n",
       "75%     14635.000000    2106.000000    2945.000000      12.000000   \n",
       "max     22189.000000    3683.000000    3895.000000    4800.000000   \n",
       "\n",
       "          CustomerID        Country  \n",
       "count  122049.000000  122049.000000  \n",
       "mean    15286.445256      32.836795  \n",
       "std      1711.887591       6.726816  \n",
       "min     12347.000000       0.000000  \n",
       "25%     13953.000000      35.000000  \n",
       "50%     15152.000000      35.000000  \n",
       "75%     16782.000000      35.000000  \n",
       "max     18287.000000      36.000000  "
      ]
     },
     "execution_count": 30,
     "metadata": {},
     "output_type": "execute_result"
    }
   ],
   "source": [
    "testdata.describe()"
   ]
  },
  {
   "cell_type": "code",
   "execution_count": 31,
   "metadata": {},
   "outputs": [
    {
     "data": {
      "text/html": [
       "<div>\n",
       "<style scoped>\n",
       "    .dataframe tbody tr th:only-of-type {\n",
       "        vertical-align: middle;\n",
       "    }\n",
       "\n",
       "    .dataframe tbody tr th {\n",
       "        vertical-align: top;\n",
       "    }\n",
       "\n",
       "    .dataframe thead th {\n",
       "        text-align: right;\n",
       "    }\n",
       "</style>\n",
       "<table border=\"1\" class=\"dataframe\">\n",
       "  <thead>\n",
       "    <tr style=\"text-align: right;\">\n",
       "      <th></th>\n",
       "      <th>Data Type</th>\n",
       "      <th>No of Levels</th>\n",
       "      <th>Levels</th>\n",
       "    </tr>\n",
       "  </thead>\n",
       "  <tbody>\n",
       "    <tr>\n",
       "      <th>InvoiceNo</th>\n",
       "      <td>int64</td>\n",
       "      <td>20971</td>\n",
       "      <td>[ 6141  6349 16783 ... 21879 13119 20867]</td>\n",
       "    </tr>\n",
       "    <tr>\n",
       "      <th>StockCode</th>\n",
       "      <td>int64</td>\n",
       "      <td>3619</td>\n",
       "      <td>[1583 1300 2178 ... 3407 1027 3521]</td>\n",
       "    </tr>\n",
       "    <tr>\n",
       "      <th>Description</th>\n",
       "      <td>int64</td>\n",
       "      <td>3819</td>\n",
       "      <td>[ 144 3682 1939 ... 1720 3539 2303]</td>\n",
       "    </tr>\n",
       "    <tr>\n",
       "      <th>Quantity</th>\n",
       "      <td>int64</td>\n",
       "      <td>373</td>\n",
       "      <td>[     3      6      4      1     12      5    ...</td>\n",
       "    </tr>\n",
       "    <tr>\n",
       "      <th>InvoiceDate</th>\n",
       "      <td>object</td>\n",
       "      <td>19451</td>\n",
       "      <td>['2011-05-06 16:54:00' '2011-05-11 07:35:00' '...</td>\n",
       "    </tr>\n",
       "    <tr>\n",
       "      <th>UnitPrice</th>\n",
       "      <td>float64</td>\n",
       "      <td>524</td>\n",
       "      <td>[3.75000e+00 1.95000e+00 5.95000e+00 8.30000e-...</td>\n",
       "    </tr>\n",
       "    <tr>\n",
       "      <th>CustomerID</th>\n",
       "      <td>float64</td>\n",
       "      <td>4339</td>\n",
       "      <td>[14056. 13098. 15044. ... 15619. 17291. 13747.]</td>\n",
       "    </tr>\n",
       "    <tr>\n",
       "      <th>Country</th>\n",
       "      <td>int64</td>\n",
       "      <td>37</td>\n",
       "      <td>[35 23 13  0 10 14 24  3 26 25  6 30 16 18 15 ...</td>\n",
       "    </tr>\n",
       "  </tbody>\n",
       "</table>\n",
       "</div>"
      ],
      "text/plain": [
       "            Data Type  No of Levels  \\\n",
       "InvoiceNo       int64         20971   \n",
       "StockCode       int64          3619   \n",
       "Description     int64          3819   \n",
       "Quantity        int64           373   \n",
       "InvoiceDate    object         19451   \n",
       "UnitPrice     float64           524   \n",
       "CustomerID    float64          4339   \n",
       "Country         int64            37   \n",
       "\n",
       "                                                        Levels  \n",
       "InvoiceNo            [ 6141  6349 16783 ... 21879 13119 20867]  \n",
       "StockCode                  [1583 1300 2178 ... 3407 1027 3521]  \n",
       "Description                [ 144 3682 1939 ... 1720 3539 2303]  \n",
       "Quantity     [     3      6      4      1     12      5    ...  \n",
       "InvoiceDate  ['2011-05-06 16:54:00' '2011-05-11 07:35:00' '...  \n",
       "UnitPrice    [3.75000e+00 1.95000e+00 5.95000e+00 8.30000e-...  \n",
       "CustomerID     [14056. 13098. 15044. ... 15619. 17291. 13747.]  \n",
       "Country      [35 23 13  0 10 14 24  3 26 25  6 30 16 18 15 ...  "
      ]
     },
     "execution_count": 31,
     "metadata": {},
     "output_type": "execute_result"
    }
   ],
   "source": [
    "def inspect_data(data):\n",
    "    return pd.DataFrame({\"Data Type\":data.dtypes,\"No of Levels\":data.apply(lambda x: x.unique().shape[0],axis=0), \"Levels\":data.apply(lambda x: str(x.unique()),axis=0)})\n",
    "inspect_data(traindata)"
   ]
  },
  {
   "cell_type": "code",
   "execution_count": 32,
   "metadata": {},
   "outputs": [
    {
     "data": {
      "text/html": [
       "<div>\n",
       "<style scoped>\n",
       "    .dataframe tbody tr th:only-of-type {\n",
       "        vertical-align: middle;\n",
       "    }\n",
       "\n",
       "    .dataframe tbody tr th {\n",
       "        vertical-align: top;\n",
       "    }\n",
       "\n",
       "    .dataframe thead th {\n",
       "        text-align: right;\n",
       "    }\n",
       "</style>\n",
       "<table border=\"1\" class=\"dataframe\">\n",
       "  <thead>\n",
       "    <tr style=\"text-align: right;\">\n",
       "      <th></th>\n",
       "      <th>Data Type</th>\n",
       "      <th>No of Levels</th>\n",
       "      <th>Levels</th>\n",
       "    </tr>\n",
       "  </thead>\n",
       "  <tbody>\n",
       "    <tr>\n",
       "      <th>InvoiceNo</th>\n",
       "      <td>int64</td>\n",
       "      <td>18204</td>\n",
       "      <td>[ 3139   617 14653 ...  3470 19694 17095]</td>\n",
       "    </tr>\n",
       "    <tr>\n",
       "      <th>StockCode</th>\n",
       "      <td>int64</td>\n",
       "      <td>3410</td>\n",
       "      <td>[1709  510  604 ... 3013 3115 3381]</td>\n",
       "    </tr>\n",
       "    <tr>\n",
       "      <th>Description</th>\n",
       "      <td>int64</td>\n",
       "      <td>3563</td>\n",
       "      <td>[1079 3457  694 ... 3721 2072 3184]</td>\n",
       "    </tr>\n",
       "    <tr>\n",
       "      <th>Quantity</th>\n",
       "      <td>int64</td>\n",
       "      <td>274</td>\n",
       "      <td>[    3     1    36     2    48    18     7    ...</td>\n",
       "    </tr>\n",
       "    <tr>\n",
       "      <th>InvoiceDate</th>\n",
       "      <td>object</td>\n",
       "      <td>17029</td>\n",
       "      <td>['2011-02-22 15:22:00' '2010-12-08 12:46:00' '...</td>\n",
       "    </tr>\n",
       "    <tr>\n",
       "      <th>CustomerID</th>\n",
       "      <td>float64</td>\n",
       "      <td>4226</td>\n",
       "      <td>[16161. 17341. 15158. ... 12977. 16679. 16262.]</td>\n",
       "    </tr>\n",
       "    <tr>\n",
       "      <th>Country</th>\n",
       "      <td>int64</td>\n",
       "      <td>37</td>\n",
       "      <td>[35 24 10  3 13 32 26 14  7 31  6 30 23 12 17 ...</td>\n",
       "    </tr>\n",
       "  </tbody>\n",
       "</table>\n",
       "</div>"
      ],
      "text/plain": [
       "            Data Type  No of Levels  \\\n",
       "InvoiceNo       int64         18204   \n",
       "StockCode       int64          3410   \n",
       "Description     int64          3563   \n",
       "Quantity        int64           274   \n",
       "InvoiceDate    object         17029   \n",
       "CustomerID    float64          4226   \n",
       "Country         int64            37   \n",
       "\n",
       "                                                        Levels  \n",
       "InvoiceNo            [ 3139   617 14653 ...  3470 19694 17095]  \n",
       "StockCode                  [1709  510  604 ... 3013 3115 3381]  \n",
       "Description                [1079 3457  694 ... 3721 2072 3184]  \n",
       "Quantity     [    3     1    36     2    48    18     7    ...  \n",
       "InvoiceDate  ['2011-02-22 15:22:00' '2010-12-08 12:46:00' '...  \n",
       "CustomerID     [16161. 17341. 15158. ... 12977. 16679. 16262.]  \n",
       "Country      [35 24 10  3 13 32 26 14  7 31  6 30 23 12 17 ...  "
      ]
     },
     "execution_count": 32,
     "metadata": {},
     "output_type": "execute_result"
    }
   ],
   "source": [
    "inspect_data(testdata)"
   ]
  },
  {
   "cell_type": "code",
   "execution_count": 33,
   "metadata": {},
   "outputs": [
    {
     "name": "stdout",
     "output_type": "stream",
     "text": [
      "InvoiceNo      0\n",
      "StockCode      0\n",
      "Description    0\n",
      "Quantity       0\n",
      "InvoiceDate    0\n",
      "UnitPrice      0\n",
      "CustomerID     0\n",
      "Country        0\n",
      "dtype: int64\n"
     ]
    }
   ],
   "source": [
    "print(traindata.isnull().sum())"
   ]
  },
  {
   "cell_type": "code",
   "execution_count": 34,
   "metadata": {},
   "outputs": [
    {
     "name": "stdout",
     "output_type": "stream",
     "text": [
      "InvoiceNo      0\n",
      "StockCode      0\n",
      "Description    0\n",
      "Quantity       0\n",
      "InvoiceDate    0\n",
      "CustomerID     0\n",
      "Country        0\n",
      "dtype: int64\n"
     ]
    }
   ],
   "source": [
    "print(testdata.isnull().sum())"
   ]
  },
  {
   "cell_type": "code",
   "execution_count": 35,
   "metadata": {},
   "outputs": [
    {
     "name": "stdout",
     "output_type": "stream",
     "text": [
      "InvoiceNo        6\n",
      "StockCode       32\n",
      "Description     28\n",
      "Quantity         0\n",
      "InvoiceDate      0\n",
      "UnitPrice       34\n",
      "CustomerID       0\n",
      "Country        883\n",
      "dtype: int64\n"
     ]
    }
   ],
   "source": [
    "print((traindata == 0).sum())"
   ]
  },
  {
   "cell_type": "code",
   "execution_count": 36,
   "metadata": {},
   "outputs": [
    {
     "name": "stdout",
     "output_type": "stream",
     "text": [
      "InvoiceNo        1\n",
      "StockCode       17\n",
      "Description     11\n",
      "Quantity         0\n",
      "InvoiceDate      0\n",
      "CustomerID       0\n",
      "Country        376\n",
      "dtype: int64\n"
     ]
    }
   ],
   "source": [
    "print((testdata == 0).sum())"
   ]
  },
  {
   "cell_type": "markdown",
   "metadata": {},
   "source": [
    "#### unit price 0"
   ]
  },
  {
   "cell_type": "code",
   "execution_count": 37,
   "metadata": {},
   "outputs": [
    {
     "data": {
      "text/html": [
       "<div>\n",
       "<style scoped>\n",
       "    .dataframe tbody tr th:only-of-type {\n",
       "        vertical-align: middle;\n",
       "    }\n",
       "\n",
       "    .dataframe tbody tr th {\n",
       "        vertical-align: top;\n",
       "    }\n",
       "\n",
       "    .dataframe thead th {\n",
       "        text-align: right;\n",
       "    }\n",
       "</style>\n",
       "<table border=\"1\" class=\"dataframe\">\n",
       "  <thead>\n",
       "    <tr style=\"text-align: right;\">\n",
       "      <th></th>\n",
       "      <th>InvoiceNo</th>\n",
       "      <th>StockCode</th>\n",
       "      <th>Description</th>\n",
       "      <th>Quantity</th>\n",
       "      <th>InvoiceDate</th>\n",
       "      <th>UnitPrice</th>\n",
       "      <th>CustomerID</th>\n",
       "      <th>Country</th>\n",
       "    </tr>\n",
       "  </thead>\n",
       "  <tbody>\n",
       "    <tr>\n",
       "      <th>15291</th>\n",
       "      <td>15305</td>\n",
       "      <td>3681</td>\n",
       "      <td>2140</td>\n",
       "      <td>1</td>\n",
       "      <td>2011-11-03 13:24:00</td>\n",
       "      <td>0.0</td>\n",
       "      <td>12437.0</td>\n",
       "      <td>13</td>\n",
       "    </tr>\n",
       "    <tr>\n",
       "      <th>26477</th>\n",
       "      <td>17360</td>\n",
       "      <td>3034</td>\n",
       "      <td>248</td>\n",
       "      <td>12540</td>\n",
       "      <td>2011-11-25 15:57:00</td>\n",
       "      <td>0.0</td>\n",
       "      <td>13256.0</td>\n",
       "      <td>35</td>\n",
       "    </tr>\n",
       "    <tr>\n",
       "      <th>35916</th>\n",
       "      <td>10019</td>\n",
       "      <td>1805</td>\n",
       "      <td>1738</td>\n",
       "      <td>11</td>\n",
       "      <td>2011-07-28 17:09:00</td>\n",
       "      <td>0.0</td>\n",
       "      <td>12507.0</td>\n",
       "      <td>30</td>\n",
       "    </tr>\n",
       "    <tr>\n",
       "      <th>47866</th>\n",
       "      <td>16621</td>\n",
       "      <td>1330</td>\n",
       "      <td>1585</td>\n",
       "      <td>4</td>\n",
       "      <td>2011-11-17 19:52:00</td>\n",
       "      <td>0.0</td>\n",
       "      <td>15602.0</td>\n",
       "      <td>35</td>\n",
       "    </tr>\n",
       "    <tr>\n",
       "      <th>57601</th>\n",
       "      <td>13438</td>\n",
       "      <td>1631</td>\n",
       "      <td>1434</td>\n",
       "      <td>2</td>\n",
       "      <td>2011-10-06 08:17:00</td>\n",
       "      <td>0.0</td>\n",
       "      <td>15804.0</td>\n",
       "      <td>35</td>\n",
       "    </tr>\n",
       "    <tr>\n",
       "      <th>63583</th>\n",
       "      <td>15625</td>\n",
       "      <td>1746</td>\n",
       "      <td>695</td>\n",
       "      <td>1</td>\n",
       "      <td>2011-11-07 16:34:00</td>\n",
       "      <td>0.0</td>\n",
       "      <td>13985.0</td>\n",
       "      <td>35</td>\n",
       "    </tr>\n",
       "    <tr>\n",
       "      <th>71639</th>\n",
       "      <td>1356</td>\n",
       "      <td>1292</td>\n",
       "      <td>2780</td>\n",
       "      <td>10</td>\n",
       "      <td>2010-12-21 13:45:00</td>\n",
       "      <td>0.0</td>\n",
       "      <td>14911.0</td>\n",
       "      <td>10</td>\n",
       "    </tr>\n",
       "    <tr>\n",
       "      <th>95323</th>\n",
       "      <td>15881</td>\n",
       "      <td>992</td>\n",
       "      <td>2320</td>\n",
       "      <td>24</td>\n",
       "      <td>2011-11-10 11:49:00</td>\n",
       "      <td>0.0</td>\n",
       "      <td>13081.0</td>\n",
       "      <td>35</td>\n",
       "    </tr>\n",
       "    <tr>\n",
       "      <th>112680</th>\n",
       "      <td>16689</td>\n",
       "      <td>2220</td>\n",
       "      <td>3006</td>\n",
       "      <td>2</td>\n",
       "      <td>2011-11-18 13:23:00</td>\n",
       "      <td>0.0</td>\n",
       "      <td>12444.0</td>\n",
       "      <td>24</td>\n",
       "    </tr>\n",
       "    <tr>\n",
       "      <th>120752</th>\n",
       "      <td>10575</td>\n",
       "      <td>1992</td>\n",
       "      <td>3082</td>\n",
       "      <td>240</td>\n",
       "      <td>2011-08-11 11:42:00</td>\n",
       "      <td>0.0</td>\n",
       "      <td>14911.0</td>\n",
       "      <td>10</td>\n",
       "    </tr>\n",
       "    <tr>\n",
       "      <th>123446</th>\n",
       "      <td>12848</td>\n",
       "      <td>3681</td>\n",
       "      <td>2140</td>\n",
       "      <td>1</td>\n",
       "      <td>2011-09-27 09:46:00</td>\n",
       "      <td>0.0</td>\n",
       "      <td>12748.0</td>\n",
       "      <td>35</td>\n",
       "    </tr>\n",
       "    <tr>\n",
       "      <th>141357</th>\n",
       "      <td>16648</td>\n",
       "      <td>3681</td>\n",
       "      <td>2140</td>\n",
       "      <td>1</td>\n",
       "      <td>2011-11-18 10:42:00</td>\n",
       "      <td>0.0</td>\n",
       "      <td>12603.0</td>\n",
       "      <td>14</td>\n",
       "    </tr>\n",
       "    <tr>\n",
       "      <th>145333</th>\n",
       "      <td>13958</td>\n",
       "      <td>3681</td>\n",
       "      <td>2140</td>\n",
       "      <td>1</td>\n",
       "      <td>2011-10-13 12:50:00</td>\n",
       "      <td>0.0</td>\n",
       "      <td>12446.0</td>\n",
       "      <td>27</td>\n",
       "    </tr>\n",
       "    <tr>\n",
       "      <th>145537</th>\n",
       "      <td>6954</td>\n",
       "      <td>1476</td>\n",
       "      <td>3088</td>\n",
       "      <td>80</td>\n",
       "      <td>2011-05-20 14:13:00</td>\n",
       "      <td>0.0</td>\n",
       "      <td>12415.0</td>\n",
       "      <td>0</td>\n",
       "    </tr>\n",
       "    <tr>\n",
       "      <th>158913</th>\n",
       "      <td>15625</td>\n",
       "      <td>2291</td>\n",
       "      <td>2056</td>\n",
       "      <td>1</td>\n",
       "      <td>2011-11-07 16:34:00</td>\n",
       "      <td>0.0</td>\n",
       "      <td>13985.0</td>\n",
       "      <td>35</td>\n",
       "    </tr>\n",
       "    <tr>\n",
       "      <th>166647</th>\n",
       "      <td>14749</td>\n",
       "      <td>421</td>\n",
       "      <td>2377</td>\n",
       "      <td>5</td>\n",
       "      <td>2011-10-26 14:36:00</td>\n",
       "      <td>0.0</td>\n",
       "      <td>18059.0</td>\n",
       "      <td>35</td>\n",
       "    </tr>\n",
       "    <tr>\n",
       "      <th>167917</th>\n",
       "      <td>6485</td>\n",
       "      <td>2599</td>\n",
       "      <td>2355</td>\n",
       "      <td>4</td>\n",
       "      <td>2011-05-12 15:21:00</td>\n",
       "      <td>0.0</td>\n",
       "      <td>17667.0</td>\n",
       "      <td>35</td>\n",
       "    </tr>\n",
       "    <tr>\n",
       "      <th>170015</th>\n",
       "      <td>15881</td>\n",
       "      <td>1306</td>\n",
       "      <td>3106</td>\n",
       "      <td>20</td>\n",
       "      <td>2011-11-10 11:49:00</td>\n",
       "      <td>0.0</td>\n",
       "      <td>13081.0</td>\n",
       "      <td>35</td>\n",
       "    </tr>\n",
       "    <tr>\n",
       "      <th>182189</th>\n",
       "      <td>1521</td>\n",
       "      <td>1412</td>\n",
       "      <td>2582</td>\n",
       "      <td>24</td>\n",
       "      <td>2011-01-06 16:41:00</td>\n",
       "      <td>0.0</td>\n",
       "      <td>13081.0</td>\n",
       "      <td>35</td>\n",
       "    </tr>\n",
       "    <tr>\n",
       "      <th>182440</th>\n",
       "      <td>1174</td>\n",
       "      <td>1439</td>\n",
       "      <td>133</td>\n",
       "      <td>4</td>\n",
       "      <td>2010-12-16 14:36:00</td>\n",
       "      <td>0.0</td>\n",
       "      <td>16560.0</td>\n",
       "      <td>35</td>\n",
       "    </tr>\n",
       "    <tr>\n",
       "      <th>183334</th>\n",
       "      <td>9883</td>\n",
       "      <td>1064</td>\n",
       "      <td>6</td>\n",
       "      <td>1</td>\n",
       "      <td>2011-07-26 12:24:00</td>\n",
       "      <td>0.0</td>\n",
       "      <td>16818.0</td>\n",
       "      <td>35</td>\n",
       "    </tr>\n",
       "    <tr>\n",
       "      <th>191958</th>\n",
       "      <td>15398</td>\n",
       "      <td>1260</td>\n",
       "      <td>1774</td>\n",
       "      <td>12</td>\n",
       "      <td>2011-11-04 11:55:00</td>\n",
       "      <td>0.0</td>\n",
       "      <td>12431.0</td>\n",
       "      <td>0</td>\n",
       "    </tr>\n",
       "    <tr>\n",
       "      <th>194547</th>\n",
       "      <td>12722</td>\n",
       "      <td>3682</td>\n",
       "      <td>2285</td>\n",
       "      <td>1</td>\n",
       "      <td>2011-09-25 12:22:00</td>\n",
       "      <td>0.0</td>\n",
       "      <td>16133.0</td>\n",
       "      <td>35</td>\n",
       "    </tr>\n",
       "    <tr>\n",
       "      <th>234154</th>\n",
       "      <td>15594</td>\n",
       "      <td>1482</td>\n",
       "      <td>2717</td>\n",
       "      <td>2</td>\n",
       "      <td>2011-11-07 13:22:00</td>\n",
       "      <td>0.0</td>\n",
       "      <td>13014.0</td>\n",
       "      <td>35</td>\n",
       "    </tr>\n",
       "    <tr>\n",
       "      <th>235537</th>\n",
       "      <td>11301</td>\n",
       "      <td>1801</td>\n",
       "      <td>64</td>\n",
       "      <td>144</td>\n",
       "      <td>2011-08-26 14:19:00</td>\n",
       "      <td>0.0</td>\n",
       "      <td>14646.0</td>\n",
       "      <td>23</td>\n",
       "    </tr>\n",
       "    <tr>\n",
       "      <th>241858</th>\n",
       "      <td>11301</td>\n",
       "      <td>2094</td>\n",
       "      <td>2996</td>\n",
       "      <td>192</td>\n",
       "      <td>2011-08-26 14:19:00</td>\n",
       "      <td>0.0</td>\n",
       "      <td>14646.0</td>\n",
       "      <td>23</td>\n",
       "    </tr>\n",
       "    <tr>\n",
       "      <th>247655</th>\n",
       "      <td>4271</td>\n",
       "      <td>965</td>\n",
       "      <td>645</td>\n",
       "      <td>36</td>\n",
       "      <td>2011-03-23 10:25:00</td>\n",
       "      <td>0.0</td>\n",
       "      <td>13239.0</td>\n",
       "      <td>35</td>\n",
       "    </tr>\n",
       "    <tr>\n",
       "      <th>251408</th>\n",
       "      <td>4838</td>\n",
       "      <td>1059</td>\n",
       "      <td>1612</td>\n",
       "      <td>2</td>\n",
       "      <td>2011-04-04 14:42:00</td>\n",
       "      <td>0.0</td>\n",
       "      <td>14410.0</td>\n",
       "      <td>35</td>\n",
       "    </tr>\n",
       "    <tr>\n",
       "      <th>251591</th>\n",
       "      <td>4613</td>\n",
       "      <td>960</td>\n",
       "      <td>2040</td>\n",
       "      <td>5</td>\n",
       "      <td>2011-03-30 12:45:00</td>\n",
       "      <td>0.0</td>\n",
       "      <td>13113.0</td>\n",
       "      <td>35</td>\n",
       "    </tr>\n",
       "    <tr>\n",
       "      <th>257438</th>\n",
       "      <td>375</td>\n",
       "      <td>1690</td>\n",
       "      <td>2884</td>\n",
       "      <td>1</td>\n",
       "      <td>2010-12-05 14:02:00</td>\n",
       "      <td>0.0</td>\n",
       "      <td>12647.0</td>\n",
       "      <td>14</td>\n",
       "    </tr>\n",
       "    <tr>\n",
       "      <th>264734</th>\n",
       "      <td>16853</td>\n",
       "      <td>3681</td>\n",
       "      <td>2140</td>\n",
       "      <td>1</td>\n",
       "      <td>2011-11-21 11:57:00</td>\n",
       "      <td>0.0</td>\n",
       "      <td>16406.0</td>\n",
       "      <td>35</td>\n",
       "    </tr>\n",
       "    <tr>\n",
       "      <th>266805</th>\n",
       "      <td>1787</td>\n",
       "      <td>1065</td>\n",
       "      <td>2211</td>\n",
       "      <td>1</td>\n",
       "      <td>2011-01-13 15:10:00</td>\n",
       "      <td>0.0</td>\n",
       "      <td>15107.0</td>\n",
       "      <td>35</td>\n",
       "    </tr>\n",
       "    <tr>\n",
       "      <th>273096</th>\n",
       "      <td>15276</td>\n",
       "      <td>2068</td>\n",
       "      <td>333</td>\n",
       "      <td>216</td>\n",
       "      <td>2011-11-03 11:26:00</td>\n",
       "      <td>0.0</td>\n",
       "      <td>12415.0</td>\n",
       "      <td>0</td>\n",
       "    </tr>\n",
       "    <tr>\n",
       "      <th>278979</th>\n",
       "      <td>1521</td>\n",
       "      <td>993</td>\n",
       "      <td>2319</td>\n",
       "      <td>24</td>\n",
       "      <td>2011-01-06 16:41:00</td>\n",
       "      <td>0.0</td>\n",
       "      <td>13081.0</td>\n",
       "      <td>35</td>\n",
       "    </tr>\n",
       "  </tbody>\n",
       "</table>\n",
       "</div>"
      ],
      "text/plain": [
       "        InvoiceNo  StockCode  Description  Quantity          InvoiceDate  \\\n",
       "15291       15305       3681         2140         1  2011-11-03 13:24:00   \n",
       "26477       17360       3034          248     12540  2011-11-25 15:57:00   \n",
       "35916       10019       1805         1738        11  2011-07-28 17:09:00   \n",
       "47866       16621       1330         1585         4  2011-11-17 19:52:00   \n",
       "57601       13438       1631         1434         2  2011-10-06 08:17:00   \n",
       "63583       15625       1746          695         1  2011-11-07 16:34:00   \n",
       "71639        1356       1292         2780        10  2010-12-21 13:45:00   \n",
       "95323       15881        992         2320        24  2011-11-10 11:49:00   \n",
       "112680      16689       2220         3006         2  2011-11-18 13:23:00   \n",
       "120752      10575       1992         3082       240  2011-08-11 11:42:00   \n",
       "123446      12848       3681         2140         1  2011-09-27 09:46:00   \n",
       "141357      16648       3681         2140         1  2011-11-18 10:42:00   \n",
       "145333      13958       3681         2140         1  2011-10-13 12:50:00   \n",
       "145537       6954       1476         3088        80  2011-05-20 14:13:00   \n",
       "158913      15625       2291         2056         1  2011-11-07 16:34:00   \n",
       "166647      14749        421         2377         5  2011-10-26 14:36:00   \n",
       "167917       6485       2599         2355         4  2011-05-12 15:21:00   \n",
       "170015      15881       1306         3106        20  2011-11-10 11:49:00   \n",
       "182189       1521       1412         2582        24  2011-01-06 16:41:00   \n",
       "182440       1174       1439          133         4  2010-12-16 14:36:00   \n",
       "183334       9883       1064            6         1  2011-07-26 12:24:00   \n",
       "191958      15398       1260         1774        12  2011-11-04 11:55:00   \n",
       "194547      12722       3682         2285         1  2011-09-25 12:22:00   \n",
       "234154      15594       1482         2717         2  2011-11-07 13:22:00   \n",
       "235537      11301       1801           64       144  2011-08-26 14:19:00   \n",
       "241858      11301       2094         2996       192  2011-08-26 14:19:00   \n",
       "247655       4271        965          645        36  2011-03-23 10:25:00   \n",
       "251408       4838       1059         1612         2  2011-04-04 14:42:00   \n",
       "251591       4613        960         2040         5  2011-03-30 12:45:00   \n",
       "257438        375       1690         2884         1  2010-12-05 14:02:00   \n",
       "264734      16853       3681         2140         1  2011-11-21 11:57:00   \n",
       "266805       1787       1065         2211         1  2011-01-13 15:10:00   \n",
       "273096      15276       2068          333       216  2011-11-03 11:26:00   \n",
       "278979       1521        993         2319        24  2011-01-06 16:41:00   \n",
       "\n",
       "        UnitPrice  CustomerID  Country  \n",
       "15291         0.0     12437.0       13  \n",
       "26477         0.0     13256.0       35  \n",
       "35916         0.0     12507.0       30  \n",
       "47866         0.0     15602.0       35  \n",
       "57601         0.0     15804.0       35  \n",
       "63583         0.0     13985.0       35  \n",
       "71639         0.0     14911.0       10  \n",
       "95323         0.0     13081.0       35  \n",
       "112680        0.0     12444.0       24  \n",
       "120752        0.0     14911.0       10  \n",
       "123446        0.0     12748.0       35  \n",
       "141357        0.0     12603.0       14  \n",
       "145333        0.0     12446.0       27  \n",
       "145537        0.0     12415.0        0  \n",
       "158913        0.0     13985.0       35  \n",
       "166647        0.0     18059.0       35  \n",
       "167917        0.0     17667.0       35  \n",
       "170015        0.0     13081.0       35  \n",
       "182189        0.0     13081.0       35  \n",
       "182440        0.0     16560.0       35  \n",
       "183334        0.0     16818.0       35  \n",
       "191958        0.0     12431.0        0  \n",
       "194547        0.0     16133.0       35  \n",
       "234154        0.0     13014.0       35  \n",
       "235537        0.0     14646.0       23  \n",
       "241858        0.0     14646.0       23  \n",
       "247655        0.0     13239.0       35  \n",
       "251408        0.0     14410.0       35  \n",
       "251591        0.0     13113.0       35  \n",
       "257438        0.0     12647.0       14  \n",
       "264734        0.0     16406.0       35  \n",
       "266805        0.0     15107.0       35  \n",
       "273096        0.0     12415.0        0  \n",
       "278979        0.0     13081.0       35  "
      ]
     },
     "execution_count": 37,
     "metadata": {},
     "output_type": "execute_result"
    }
   ],
   "source": [
    "## they could either be RETURNED ITEMS or FREE ITEMS\n",
    "traindata.loc[(traindata['UnitPrice'] == 0)]"
   ]
  },
  {
   "cell_type": "code",
   "execution_count": 38,
   "metadata": {},
   "outputs": [],
   "source": [
    "#testdata.loc[testdata.StockCode == 3681]"
   ]
  },
  {
   "cell_type": "code",
   "execution_count": 39,
   "metadata": {},
   "outputs": [],
   "source": [
    "#traindata.loc[traindata.StockCode == 3681]"
   ]
  },
  {
   "cell_type": "code",
   "execution_count": 40,
   "metadata": {},
   "outputs": [],
   "source": [
    "#traindata.loc[traindata.UnitPrice >= 1000]"
   ]
  },
  {
   "cell_type": "markdown",
   "metadata": {},
   "source": [
    "#### plots"
   ]
  },
  {
   "cell_type": "code",
   "execution_count": 41,
   "metadata": {},
   "outputs": [
    {
     "name": "stderr",
     "output_type": "stream",
     "text": [
      "C:\\Users\\Tejasvi\\anaconda3\\lib\\site-packages\\seaborn\\distributions.py:2557: FutureWarning: `distplot` is a deprecated function and will be removed in a future version. Please adapt your code to use either `displot` (a figure-level function with similar flexibility) or `histplot` (an axes-level function for histograms).\n",
      "  warnings.warn(msg, FutureWarning)\n",
      "C:\\Users\\Tejasvi\\anaconda3\\lib\\site-packages\\pandas\\core\\arraylike.py:358: RuntimeWarning: divide by zero encountered in log\n",
      "  result = getattr(ufunc, method)(*inputs, **kwargs)\n",
      "C:\\Users\\Tejasvi\\anaconda3\\lib\\site-packages\\pandas\\core\\arraylike.py:358: RuntimeWarning: invalid value encountered in log\n",
      "  result = getattr(ufunc, method)(*inputs, **kwargs)\n",
      "C:\\Users\\Tejasvi\\anaconda3\\lib\\site-packages\\seaborn\\distributions.py:2557: FutureWarning: `distplot` is a deprecated function and will be removed in a future version. Please adapt your code to use either `displot` (a figure-level function with similar flexibility) or `histplot` (an axes-level function for histograms).\n",
      "  warnings.warn(msg, FutureWarning)\n"
     ]
    },
    {
     "name": "stdout",
     "output_type": "stream",
     "text": [
      "cannot convert float infinity to integer\n"
     ]
    },
    {
     "name": "stderr",
     "output_type": "stream",
     "text": [
      "C:\\Users\\Tejasvi\\anaconda3\\lib\\site-packages\\seaborn\\distributions.py:2557: FutureWarning: `distplot` is a deprecated function and will be removed in a future version. Please adapt your code to use either `displot` (a figure-level function with similar flexibility) or `histplot` (an axes-level function for histograms).\n",
      "  warnings.warn(msg, FutureWarning)\n"
     ]
    },
    {
     "data": {
      "image/png": "[encoded data removed]",
      "text/plain": [
       "<Figure size 864x576 with 5 Axes>"
      ]
     },
     "metadata": {
      "needs_background": "light"
     },
     "output_type": "display_data"
    },
    {
     "data": {
      "image/png": "[encoded data removed]",
      "text/plain": [
       "<Figure size 864x576 with 6 Axes>"
      ]
     },
     "metadata": {
      "needs_background": "light"
     },
     "output_type": "display_data"
    },
    {
     "name": "stderr",
     "output_type": "stream",
     "text": [
      "C:\\Users\\Tejasvi\\anaconda3\\lib\\site-packages\\pandas\\core\\arraylike.py:358: RuntimeWarning: divide by zero encountered in log\n",
      "  result = getattr(ufunc, method)(*inputs, **kwargs)\n",
      "C:\\Users\\Tejasvi\\anaconda3\\lib\\site-packages\\pandas\\core\\arraylike.py:358: RuntimeWarning: invalid value encountered in log\n",
      "  result = getattr(ufunc, method)(*inputs, **kwargs)\n"
     ]
    },
    {
     "data": {
      "image/png": "[encoded data removed]",
      "text/plain": [
       "<Figure size 864x288 with 2 Axes>"
      ]
     },
     "metadata": {
      "needs_background": "light"
     },
     "output_type": "display_data"
    }
   ],
   "source": [
    "### Let's plot the graph for Quantity and UnitPrice and its scatter plot also.\n",
    "import scipy.stats as st\n",
    "\n",
    "### Here, I'm going to plot \n",
    "### 1. Scatter plot between index and variables.\n",
    "### 2. Distribution plot\n",
    "### 3. Proba plot (used to find the R-Squared values)\n",
    "### 4. Scatter plot between Quantity and UnitPrice\n",
    "### Repeat Distribution and Proba plot by transforming the variables in log form\n",
    "\n",
    "for col in ['Quantity', 'UnitPrice']:\n",
    "    plt.figure(figsize= (12, 8))\n",
    "    \n",
    "    try:\n",
    "        plt.subplot(2,3,1)\n",
    "        plt.scatter(traindata.index, traindata[col].sort_values())\n",
    "        plt.xlabel('Index')\n",
    "        plt.ylabel(col)\n",
    "        plt.title(f'Scatter plot between index and {col}')\n",
    "\n",
    "        plt.subplot(2,3,2)\n",
    "        sns.distplot(traindata[col])\n",
    "        plt.title(f'Distribution plot of {col}')\n",
    "\n",
    "        plt.subplot(2,3,3)\n",
    "        st.probplot(traindata[col], plot= plt, rvalue= True)\n",
    "        plt.title(f'Probplot of {col}')\n",
    "\n",
    "        plt.subplot(2,3,4)\n",
    "        plt.scatter(traindata.index, np.log(traindata[col].sort_values()+1))\n",
    "        plt.xlabel('Index')\n",
    "        plt.ylabel(col)\n",
    "        plt.title(f'Scatter plot between index and Log({col})')\n",
    "\n",
    "        \n",
    "        plt.subplot(2,3,5)\n",
    "        sns.distplot(np.log(traindata[col]+1))\n",
    "        plt.title(f'Distribution plot of Log({col})')\n",
    "\n",
    "        plt.subplot(2,3,6)\n",
    "        st.probplot(np.log(traindata[col]+1), plot= plt, rvalue= True)\n",
    "        plt.title(f'Probplot of Log({col})')\n",
    "\n",
    "    except Exception as e:\n",
    "        print(e)\n",
    "plt.tight_layout()\n",
    "plt.show()\n",
    "\n",
    "### Scatter plots\n",
    "plt.figure(figsize= (12, 4))\n",
    "plt.subplot(1,2,1)\n",
    "plt.scatter(traindata['Quantity'], traindata['UnitPrice'])\n",
    "plt.xlabel('Quantity')\n",
    "plt.ylabel('UnitPrice')\n",
    "plt.title('Scatter Plot between Quantity and UnitPrice')\n",
    "\n",
    "plt.subplot(1,2,2)\n",
    "plt.scatter(np.log(traindata['Quantity']+1), np.log(traindata['UnitPrice']+1))\n",
    "plt.xlabel('Quantity')\n",
    "plt.ylabel('UnitPrice')\n",
    "plt.title('Scatter Plot between Log(Quantity) and Log(UnitPrice)')\n",
    "\n",
    "plt.tight_layout()\n",
    "plt.show()"
   ]
  },
  {
   "cell_type": "markdown",
   "metadata": {},
   "source": [
    "#### Relationship between stockcode and description"
   ]
  },
  {
   "cell_type": "code",
   "execution_count": 42,
   "metadata": {},
   "outputs": [],
   "source": [
    "#traindata.loc[(traindata['StockCode'] == 432)]"
   ]
  },
  {
   "cell_type": "code",
   "execution_count": 43,
   "metadata": {},
   "outputs": [],
   "source": [
    "#df = pd.DataFrame(traindata.groupby('StockCode').apply(lambda x: x['Description'].unique()))\n",
    "df1= traindata.groupby(['StockCode','Description']).count()"
   ]
  },
  {
   "cell_type": "markdown",
   "metadata": {},
   "source": [
    "#### Data types"
   ]
  },
  {
   "cell_type": "code",
   "execution_count": 44,
   "metadata": {},
   "outputs": [],
   "source": [
    "from datetime import datetime\n",
    "traindata['InvoiceDate'] = pd.to_datetime(traindata['InvoiceDate'])\n",
    "testdata['InvoiceDate'] = pd.to_datetime(testdata['InvoiceDate'])"
   ]
  },
  {
   "cell_type": "code",
   "execution_count": 45,
   "metadata": {},
   "outputs": [],
   "source": [
    "cat = ['Country','CustomerID','StockCode']"
   ]
  },
  {
   "cell_type": "code",
   "execution_count": 46,
   "metadata": {},
   "outputs": [],
   "source": [
    "traindata[cat] = traindata[cat].astype('category')\n",
    "traindata['Quantity'] = traindata['Quantity'].astype(np.int32) # change it to int16 from int64 to save memory\n",
    "traindata['UnitPrice'] = traindata['UnitPrice'].astype(np.float32) \n",
    "#traindata[['CustomerID','StockCode']] = traindata[['CustomerID','StockCode']].astype(np.int32) "
   ]
  },
  {
   "cell_type": "code",
   "execution_count": 47,
   "metadata": {},
   "outputs": [],
   "source": [
    "testdata[cat] = testdata[cat].astype('category')\n",
    "testdata['Quantity'] = testdata['Quantity'].astype(np.int16) \n",
    "#testdata[['CustomerID','StockCode']] = testdata[['CustomerID','StockCode']].astype(np.int32) "
   ]
  },
  {
   "cell_type": "code",
   "execution_count": 48,
   "metadata": {},
   "outputs": [
    {
     "data": {
      "text/plain": [
       "(284780, 8)"
      ]
     },
     "execution_count": 48,
     "metadata": {},
     "output_type": "execute_result"
    }
   ],
   "source": [
    "traindata.shape"
   ]
  },
  {
   "cell_type": "code",
   "execution_count": 49,
   "metadata": {},
   "outputs": [
    {
     "name": "stderr",
     "output_type": "stream",
     "text": [
      "C:\\Users\\Tejasvi\\anaconda3\\lib\\site-packages\\pandas\\io\\formats\\format.py:1405: FutureWarning: Index.ravel returning ndarray is deprecated; in a future version this will return a view on self.\n",
      "  for val, m in zip(values.ravel(), mask.ravel())\n",
      "C:\\Users\\Tejasvi\\anaconda3\\lib\\site-packages\\pandas\\io\\formats\\format.py:1405: FutureWarning: Index.ravel returning ndarray is deprecated; in a future version this will return a view on self.\n",
      "  for val, m in zip(values.ravel(), mask.ravel())\n"
     ]
    },
    {
     "data": {
      "text/html": [
       "<div>\n",
       "<style scoped>\n",
       "    .dataframe tbody tr th:only-of-type {\n",
       "        vertical-align: middle;\n",
       "    }\n",
       "\n",
       "    .dataframe tbody tr th {\n",
       "        vertical-align: top;\n",
       "    }\n",
       "\n",
       "    .dataframe thead th {\n",
       "        text-align: right;\n",
       "    }\n",
       "</style>\n",
       "<table border=\"1\" class=\"dataframe\">\n",
       "  <thead>\n",
       "    <tr style=\"text-align: right;\">\n",
       "      <th></th>\n",
       "      <th>Data Type</th>\n",
       "      <th>No of Levels</th>\n",
       "      <th>Levels</th>\n",
       "    </tr>\n",
       "  </thead>\n",
       "  <tbody>\n",
       "    <tr>\n",
       "      <th>InvoiceNo</th>\n",
       "      <td>int64</td>\n",
       "      <td>20971</td>\n",
       "      <td>[ 6141  6349 16783 ... 21879 13119 20867]</td>\n",
       "    </tr>\n",
       "    <tr>\n",
       "      <th>StockCode</th>\n",
       "      <td>category</td>\n",
       "      <td>3619</td>\n",
       "      <td>[1583, 1300, 2178, 2115, 1210, ..., 2899, 3427...</td>\n",
       "    </tr>\n",
       "    <tr>\n",
       "      <th>Description</th>\n",
       "      <td>int64</td>\n",
       "      <td>3819</td>\n",
       "      <td>[ 144 3682 1939 ... 1720 3539 2303]</td>\n",
       "    </tr>\n",
       "    <tr>\n",
       "      <th>Quantity</th>\n",
       "      <td>int32</td>\n",
       "      <td>373</td>\n",
       "      <td>[     3      6      4      1     12      5    ...</td>\n",
       "    </tr>\n",
       "    <tr>\n",
       "      <th>InvoiceDate</th>\n",
       "      <td>datetime64[ns]</td>\n",
       "      <td>19451</td>\n",
       "      <td>['2011-05-06T16:54:00.000000000' '2011-05-11T0...</td>\n",
       "    </tr>\n",
       "    <tr>\n",
       "      <th>UnitPrice</th>\n",
       "      <td>float32</td>\n",
       "      <td>524</td>\n",
       "      <td>[3.75000e+00 1.95000e+00 5.95000e+00 8.30000e-...</td>\n",
       "    </tr>\n",
       "    <tr>\n",
       "      <th>CustomerID</th>\n",
       "      <td>category</td>\n",
       "      <td>4339</td>\n",
       "      <td>[14056.0, 13098.0, 15044.0, 15525.0, 13952.0, ...</td>\n",
       "    </tr>\n",
       "    <tr>\n",
       "      <th>Country</th>\n",
       "      <td>category</td>\n",
       "      <td>37</td>\n",
       "      <td>[35, 23, 13, 0, 10, ..., 4, 27, 20, 2, 28]\\nLe...</td>\n",
       "    </tr>\n",
       "  </tbody>\n",
       "</table>\n",
       "</div>"
      ],
      "text/plain": [
       "                  Data Type  No of Levels  \\\n",
       "InvoiceNo             int64         20971   \n",
       "StockCode          category          3619   \n",
       "Description           int64          3819   \n",
       "Quantity              int32           373   \n",
       "InvoiceDate  datetime64[ns]         19451   \n",
       "UnitPrice           float32           524   \n",
       "CustomerID         category          4339   \n",
       "Country            category            37   \n",
       "\n",
       "                                                        Levels  \n",
       "InvoiceNo            [ 6141  6349 16783 ... 21879 13119 20867]  \n",
       "StockCode    [1583, 1300, 2178, 2115, 1210, ..., 2899, 3427...  \n",
       "Description                [ 144 3682 1939 ... 1720 3539 2303]  \n",
       "Quantity     [     3      6      4      1     12      5    ...  \n",
       "InvoiceDate  ['2011-05-06T16:54:00.000000000' '2011-05-11T0...  \n",
       "UnitPrice    [3.75000e+00 1.95000e+00 5.95000e+00 8.30000e-...  \n",
       "CustomerID   [14056.0, 13098.0, 15044.0, 15525.0, 13952.0, ...  \n",
       "Country      [35, 23, 13, 0, 10, ..., 4, 27, 20, 2, 28]\\nLe...  "
      ]
     },
     "execution_count": 49,
     "metadata": {},
     "output_type": "execute_result"
    }
   ],
   "source": [
    "inspect_data(traindata)"
   ]
  },
  {
   "cell_type": "markdown",
   "metadata": {},
   "source": [
    "### handing date time"
   ]
  },
  {
   "cell_type": "code",
   "execution_count": 50,
   "metadata": {},
   "outputs": [],
   "source": [
    "#traindata.loc[(traindata['CustomerID']==14646) & (traindata['StockCode']== 442)]"
   ]
  },
  {
   "cell_type": "code",
   "execution_count": 51,
   "metadata": {},
   "outputs": [],
   "source": [
    "#traindata.loc[(traindata['Invoice_year']==2010) & (traindata['StockCode']== 2098)]"
   ]
  },
  {
   "cell_type": "code",
   "execution_count": 52,
   "metadata": {},
   "outputs": [],
   "source": [
    "traindata['Invoice_month'] = traindata['InvoiceDate'].map(lambda x: x.month)\n",
    "testdata['Invoice_month'] = testdata['InvoiceDate'].map(lambda x: x.month)"
   ]
  },
  {
   "cell_type": "code",
   "execution_count": 53,
   "metadata": {},
   "outputs": [
    {
     "data": {
      "image/png": "[encoded data removed]",
      "text/plain": [
       "<Figure size 864x360 with 1 Axes>"
      ]
     },
     "metadata": {
      "needs_background": "light"
     },
     "output_type": "display_data"
    }
   ],
   "source": [
    "traindata.groupby(['Invoice_month'])['Quantity'].sum().plot(kind= 'bar', figsize= (12, 5))\n",
    "plt.show()"
   ]
  },
  {
   "cell_type": "code",
   "execution_count": 54,
   "metadata": {},
   "outputs": [],
   "source": [
    "#df=traindata.groupby(['StockCode','Invoice_month','UnitPrice']).count().reset_index()\n",
    "#df.head(3)"
   ]
  },
  {
   "cell_type": "code",
   "execution_count": 55,
   "metadata": {},
   "outputs": [
    {
     "data": {
      "text/plain": [
       "Text(0.5, 0, 'Invoice_month')"
      ]
     },
     "execution_count": 55,
     "metadata": {},
     "output_type": "execute_result"
    },
    {
     "data": {
      "image/png": "[encoded data removed]",
      "text/plain": [
       "<Figure size 720x360 with 1 Axes>"
      ]
     },
     "metadata": {
      "needs_background": "light"
     },
     "output_type": "display_data"
    }
   ],
   "source": [
    "%matplotlib inline\n",
    "plt.figure(figsize=(10,5))\n",
    "sns.countplot(x = traindata.Invoice_month, \\\n",
    "              order = traindata.Invoice_month.value_counts().iloc[:].index, \\\n",
    "                                                      orient = 'v')\n",
    "plt.title('Monthly sales', fontsize=20 )\n",
    "plt.ylabel('count', fontsize = 20)\n",
    "plt.xlabel('Invoice_month', fontsize = 20)"
   ]
  },
  {
   "cell_type": "code",
   "execution_count": 56,
   "metadata": {},
   "outputs": [],
   "source": [
    "traindata['Day_of_Week'] = traindata['InvoiceDate'].map(lambda x: x.dayofweek)\n",
    "testdata['Day_of_Week'] = testdata['InvoiceDate'].map(lambda x: x.dayofweek)\n",
    "#ALL['Day_of_Week']= ALL['InvoiceDate'].dt.dayofweek\n"
   ]
  },
  {
   "cell_type": "code",
   "execution_count": 57,
   "metadata": {},
   "outputs": [],
   "source": [
    "traindata['Invoice_hour'] = traindata['InvoiceDate'].map(lambda x: x.hour)\n",
    "testdata['Invoice_hour'] = testdata['InvoiceDate'].map(lambda x: x.hour)"
   ]
  },
  {
   "cell_type": "code",
   "execution_count": 58,
   "metadata": {},
   "outputs": [],
   "source": [
    "traindata[['Day_of_Week','Invoice_month','Invoice_hour']] = traindata[['Day_of_Week','Invoice_month','Invoice_hour']].astype('category')\n",
    "testdata[['Day_of_Week','Invoice_month', 'Invoice_hour']] = testdata[['Day_of_Week','Invoice_month','Invoice_hour']].astype('category')"
   ]
  },
  {
   "cell_type": "code",
   "execution_count": 59,
   "metadata": {},
   "outputs": [],
   "source": [
    "traindata.drop('InvoiceDate',axis=1,inplace=True)\n",
    "testdata.drop('InvoiceDate',axis=1,inplace=True)"
   ]
  },
  {
   "cell_type": "code",
   "execution_count": 60,
   "metadata": {},
   "outputs": [
    {
     "data": {
      "text/plain": [
       "InvoiceNo           int64\n",
       "StockCode        category\n",
       "Description         int64\n",
       "Quantity            int32\n",
       "UnitPrice         float32\n",
       "CustomerID       category\n",
       "Country          category\n",
       "Invoice_month    category\n",
       "Day_of_Week      category\n",
       "Invoice_hour     category\n",
       "dtype: object"
      ]
     },
     "execution_count": 60,
     "metadata": {},
     "output_type": "execute_result"
    }
   ],
   "source": [
    "traindata.dtypes"
   ]
  },
  {
   "cell_type": "code",
   "execution_count": 61,
   "metadata": {},
   "outputs": [
    {
     "data": {
      "text/plain": [
       "Index                128\n",
       "InvoiceNo        2278240\n",
       "StockCode         730648\n",
       "Description      2278240\n",
       "Quantity         1139120\n",
       "UnitPrice        1139120\n",
       "CustomerID        736408\n",
       "Country           286148\n",
       "Invoice_month     285176\n",
       "Day_of_Week       285000\n",
       "Invoice_hour      285456\n",
       "dtype: int64"
      ]
     },
     "execution_count": 61,
     "metadata": {},
     "output_type": "execute_result"
    }
   ],
   "source": [
    "traindata.memory_usage()"
   ]
  },
  {
   "cell_type": "code",
   "execution_count": 62,
   "metadata": {},
   "outputs": [
    {
     "data": {
      "text/html": [
       "<div>\n",
       "<style scoped>\n",
       "    .dataframe tbody tr th:only-of-type {\n",
       "        vertical-align: middle;\n",
       "    }\n",
       "\n",
       "    .dataframe tbody tr th {\n",
       "        vertical-align: top;\n",
       "    }\n",
       "\n",
       "    .dataframe thead th {\n",
       "        text-align: right;\n",
       "    }\n",
       "</style>\n",
       "<table border=\"1\" class=\"dataframe\">\n",
       "  <thead>\n",
       "    <tr style=\"text-align: right;\">\n",
       "      <th></th>\n",
       "      <th>InvoiceNo</th>\n",
       "      <th>StockCode</th>\n",
       "      <th>Description</th>\n",
       "      <th>Quantity</th>\n",
       "      <th>UnitPrice</th>\n",
       "      <th>CustomerID</th>\n",
       "      <th>Country</th>\n",
       "      <th>Invoice_month</th>\n",
       "      <th>Day_of_Week</th>\n",
       "      <th>Invoice_hour</th>\n",
       "    </tr>\n",
       "  </thead>\n",
       "  <tbody>\n",
       "    <tr>\n",
       "      <th>0</th>\n",
       "      <td>6141</td>\n",
       "      <td>1583</td>\n",
       "      <td>144</td>\n",
       "      <td>3</td>\n",
       "      <td>3.75</td>\n",
       "      <td>14056.0</td>\n",
       "      <td>35</td>\n",
       "      <td>5</td>\n",
       "      <td>4</td>\n",
       "      <td>16</td>\n",
       "    </tr>\n",
       "    <tr>\n",
       "      <th>1</th>\n",
       "      <td>6349</td>\n",
       "      <td>1300</td>\n",
       "      <td>3682</td>\n",
       "      <td>6</td>\n",
       "      <td>1.95</td>\n",
       "      <td>13098.0</td>\n",
       "      <td>35</td>\n",
       "      <td>5</td>\n",
       "      <td>2</td>\n",
       "      <td>7</td>\n",
       "    </tr>\n",
       "    <tr>\n",
       "      <th>2</th>\n",
       "      <td>16783</td>\n",
       "      <td>2178</td>\n",
       "      <td>1939</td>\n",
       "      <td>4</td>\n",
       "      <td>5.95</td>\n",
       "      <td>15044.0</td>\n",
       "      <td>35</td>\n",
       "      <td>11</td>\n",
       "      <td>6</td>\n",
       "      <td>13</td>\n",
       "    </tr>\n",
       "    <tr>\n",
       "      <th>3</th>\n",
       "      <td>16971</td>\n",
       "      <td>2115</td>\n",
       "      <td>2983</td>\n",
       "      <td>1</td>\n",
       "      <td>0.83</td>\n",
       "      <td>15525.0</td>\n",
       "      <td>35</td>\n",
       "      <td>11</td>\n",
       "      <td>1</td>\n",
       "      <td>12</td>\n",
       "    </tr>\n",
       "    <tr>\n",
       "      <th>4</th>\n",
       "      <td>6080</td>\n",
       "      <td>1210</td>\n",
       "      <td>2886</td>\n",
       "      <td>12</td>\n",
       "      <td>1.65</td>\n",
       "      <td>13952.0</td>\n",
       "      <td>35</td>\n",
       "      <td>5</td>\n",
       "      <td>4</td>\n",
       "      <td>9</td>\n",
       "    </tr>\n",
       "  </tbody>\n",
       "</table>\n",
       "</div>"
      ],
      "text/plain": [
       "   InvoiceNo StockCode  Description  Quantity  UnitPrice CustomerID Country  \\\n",
       "0       6141      1583          144         3       3.75    14056.0      35   \n",
       "1       6349      1300         3682         6       1.95    13098.0      35   \n",
       "2      16783      2178         1939         4       5.95    15044.0      35   \n",
       "3      16971      2115         2983         1       0.83    15525.0      35   \n",
       "4       6080      1210         2886        12       1.65    13952.0      35   \n",
       "\n",
       "  Invoice_month Day_of_Week Invoice_hour  \n",
       "0             5           4           16  \n",
       "1             5           2            7  \n",
       "2            11           6           13  \n",
       "3            11           1           12  \n",
       "4             5           4            9  "
      ]
     },
     "execution_count": 62,
     "metadata": {},
     "output_type": "execute_result"
    }
   ],
   "source": [
    "traindata.head()"
   ]
  },
  {
   "cell_type": "code",
   "execution_count": 63,
   "metadata": {},
   "outputs": [],
   "source": [
    "### Ever Maximum and Ever Average Quantity by Country, CustomerID, StockCode, Description\n",
    "for col in ['CustomerID', 'Description']:\n",
    "    temp= traindata.groupby(col)['Quantity'].agg(['max', 'mean']).reset_index()\n",
    "    temp.columns= [col, f'Max_Quantity_{col}', f'Avg_Quantity_{col}']\n",
    "    traindata = pd.merge(traindata, temp, on= col, how= 'left')\n",
    "    del temp"
   ]
  },
  {
   "cell_type": "code",
   "execution_count": 64,
   "metadata": {},
   "outputs": [],
   "source": [
    "for col in ['CustomerID', 'Description']:\n",
    "    temp= testdata.groupby(col)['Quantity'].agg(['max', 'mean']).reset_index()\n",
    "    temp.columns= [col, f'Max_Quantity_{col}', f'Avg_Quantity_{col}']\n",
    "    testdata = pd.merge(testdata, temp, on= col, how= 'left')\n",
    "    del temp"
   ]
  },
  {
   "cell_type": "code",
   "execution_count": 65,
   "metadata": {},
   "outputs": [
    {
     "data": {
      "text/plain": [
       "(284780, 14)"
      ]
     },
     "execution_count": 65,
     "metadata": {},
     "output_type": "execute_result"
    }
   ],
   "source": [
    "traindata.shape"
   ]
  },
  {
   "cell_type": "code",
   "execution_count": 66,
   "metadata": {},
   "outputs": [
    {
     "data": {
      "text/plain": [
       "(122049, 13)"
      ]
     },
     "execution_count": 66,
     "metadata": {},
     "output_type": "execute_result"
    }
   ],
   "source": [
    "testdata.shape"
   ]
  },
  {
   "cell_type": "code",
   "execution_count": 67,
   "metadata": {},
   "outputs": [
    {
     "name": "stdout",
     "output_type": "stream",
     "text": [
      "InvoiceNo                   0\n",
      "StockCode                   0\n",
      "Description                 0\n",
      "Quantity                    0\n",
      "CustomerID                  0\n",
      "Country                     0\n",
      "Invoice_month               0\n",
      "Day_of_Week                 0\n",
      "Invoice_hour                0\n",
      "Max_Quantity_CustomerID     0\n",
      "Avg_Quantity_CustomerID     0\n",
      "Max_Quantity_Description    0\n",
      "Avg_Quantity_Description    0\n",
      "dtype: int64\n"
     ]
    }
   ],
   "source": [
    "print(testdata.isnull().sum())"
   ]
  },
  {
   "cell_type": "markdown",
   "metadata": {},
   "source": [
    "#### Duplicates"
   ]
  },
  {
   "cell_type": "code",
   "execution_count": 68,
   "metadata": {},
   "outputs": [
    {
     "data": {
      "text/plain": [
       "2622"
      ]
     },
     "execution_count": 68,
     "metadata": {},
     "output_type": "execute_result"
    }
   ],
   "source": [
    "dupes=traindata.duplicated()\n",
    "sum(dupes)\n",
    "\n",
    "#bill_data_uniq=bill_data.drop_duplicates()"
   ]
  },
  {
   "cell_type": "code",
   "execution_count": 69,
   "metadata": {},
   "outputs": [
    {
     "data": {
      "text/plain": [
       "508"
      ]
     },
     "execution_count": 69,
     "metadata": {},
     "output_type": "execute_result"
    }
   ],
   "source": [
    "dupes=testdata.duplicated()\n",
    "sum(dupes)"
   ]
  },
  {
   "cell_type": "code",
   "execution_count": 70,
   "metadata": {},
   "outputs": [
    {
     "data": {
      "text/html": [
       "<div>\n",
       "<style scoped>\n",
       "    .dataframe tbody tr th:only-of-type {\n",
       "        vertical-align: middle;\n",
       "    }\n",
       "\n",
       "    .dataframe tbody tr th {\n",
       "        vertical-align: top;\n",
       "    }\n",
       "\n",
       "    .dataframe thead th {\n",
       "        text-align: right;\n",
       "    }\n",
       "</style>\n",
       "<table border=\"1\" class=\"dataframe\">\n",
       "  <thead>\n",
       "    <tr style=\"text-align: right;\">\n",
       "      <th></th>\n",
       "      <th>InvoiceNo</th>\n",
       "      <th>StockCode</th>\n",
       "      <th>Description</th>\n",
       "      <th>Quantity</th>\n",
       "      <th>UnitPrice</th>\n",
       "      <th>CustomerID</th>\n",
       "      <th>Country</th>\n",
       "      <th>Invoice_month</th>\n",
       "      <th>Day_of_Week</th>\n",
       "      <th>Invoice_hour</th>\n",
       "      <th>Max_Quantity_CustomerID</th>\n",
       "      <th>Avg_Quantity_CustomerID</th>\n",
       "      <th>Max_Quantity_Description</th>\n",
       "      <th>Avg_Quantity_Description</th>\n",
       "    </tr>\n",
       "  </thead>\n",
       "  <tbody>\n",
       "    <tr>\n",
       "      <th>10046</th>\n",
       "      <td>17505</td>\n",
       "      <td>2388</td>\n",
       "      <td>3587</td>\n",
       "      <td>1</td>\n",
       "      <td>2.08</td>\n",
       "      <td>13030.0</td>\n",
       "      <td>35</td>\n",
       "      <td>11</td>\n",
       "      <td>0</td>\n",
       "      <td>14</td>\n",
       "      <td>24</td>\n",
       "      <td>4.223881</td>\n",
       "      <td>1500</td>\n",
       "      <td>18.562500</td>\n",
       "    </tr>\n",
       "    <tr>\n",
       "      <th>10509</th>\n",
       "      <td>15113</td>\n",
       "      <td>2175</td>\n",
       "      <td>100</td>\n",
       "      <td>5</td>\n",
       "      <td>0.83</td>\n",
       "      <td>17377.0</td>\n",
       "      <td>35</td>\n",
       "      <td>11</td>\n",
       "      <td>1</td>\n",
       "      <td>10</td>\n",
       "      <td>36</td>\n",
       "      <td>4.907591</td>\n",
       "      <td>216</td>\n",
       "      <td>14.718919</td>\n",
       "    </tr>\n",
       "    <tr>\n",
       "      <th>10652</th>\n",
       "      <td>3421</td>\n",
       "      <td>2546</td>\n",
       "      <td>216</td>\n",
       "      <td>3</td>\n",
       "      <td>0.21</td>\n",
       "      <td>15456.0</td>\n",
       "      <td>35</td>\n",
       "      <td>3</td>\n",
       "      <td>1</td>\n",
       "      <td>13</td>\n",
       "      <td>144</td>\n",
       "      <td>12.302326</td>\n",
       "      <td>48</td>\n",
       "      <td>10.714286</td>\n",
       "    </tr>\n",
       "    <tr>\n",
       "      <th>11965</th>\n",
       "      <td>11965</td>\n",
       "      <td>3108</td>\n",
       "      <td>195</td>\n",
       "      <td>6</td>\n",
       "      <td>1.25</td>\n",
       "      <td>13611.0</td>\n",
       "      <td>35</td>\n",
       "      <td>9</td>\n",
       "      <td>6</td>\n",
       "      <td>14</td>\n",
       "      <td>48</td>\n",
       "      <td>8.949153</td>\n",
       "      <td>360</td>\n",
       "      <td>26.292453</td>\n",
       "    </tr>\n",
       "    <tr>\n",
       "      <th>13108</th>\n",
       "      <td>14321</td>\n",
       "      <td>2091</td>\n",
       "      <td>3029</td>\n",
       "      <td>1</td>\n",
       "      <td>1.25</td>\n",
       "      <td>14704.0</td>\n",
       "      <td>35</td>\n",
       "      <td>10</td>\n",
       "      <td>2</td>\n",
       "      <td>13</td>\n",
       "      <td>28</td>\n",
       "      <td>2.582492</td>\n",
       "      <td>36</td>\n",
       "      <td>6.037433</td>\n",
       "    </tr>\n",
       "  </tbody>\n",
       "</table>\n",
       "</div>"
      ],
      "text/plain": [
       "       InvoiceNo StockCode  Description  Quantity  UnitPrice CustomerID  \\\n",
       "10046      17505      2388         3587         1       2.08    13030.0   \n",
       "10509      15113      2175          100         5       0.83    17377.0   \n",
       "10652       3421      2546          216         3       0.21    15456.0   \n",
       "11965      11965      3108          195         6       1.25    13611.0   \n",
       "13108      14321      2091         3029         1       1.25    14704.0   \n",
       "\n",
       "      Country Invoice_month Day_of_Week Invoice_hour  Max_Quantity_CustomerID  \\\n",
       "10046      35            11           0           14                       24   \n",
       "10509      35            11           1           10                       36   \n",
       "10652      35             3           1           13                      144   \n",
       "11965      35             9           6           14                       48   \n",
       "13108      35            10           2           13                       28   \n",
       "\n",
       "       Avg_Quantity_CustomerID  Max_Quantity_Description  \\\n",
       "10046                 4.223881                      1500   \n",
       "10509                 4.907591                       216   \n",
       "10652                12.302326                        48   \n",
       "11965                 8.949153                       360   \n",
       "13108                 2.582492                        36   \n",
       "\n",
       "       Avg_Quantity_Description  \n",
       "10046                 18.562500  \n",
       "10509                 14.718919  \n",
       "10652                 10.714286  \n",
       "11965                 26.292453  \n",
       "13108                  6.037433  "
      ]
     },
     "execution_count": 70,
     "metadata": {},
     "output_type": "execute_result"
    }
   ],
   "source": [
    "duplicate = traindata[traindata.duplicated()] \n",
    "duplicate.head()"
   ]
  },
  {
   "cell_type": "markdown",
   "metadata": {},
   "source": [
    "#### Quantity"
   ]
  },
  {
   "cell_type": "code",
   "execution_count": 71,
   "metadata": {},
   "outputs": [
    {
     "name": "stdout",
     "output_type": "stream",
     "text": [
      "6167\n",
      "2738\n"
     ]
    }
   ],
   "source": [
    "# negative quantity values\n",
    "print(traindata['Quantity'].lt(0).sum())\n",
    "print(testdata['Quantity'].lt(0).sum())"
   ]
  },
  {
   "cell_type": "code",
   "execution_count": 72,
   "metadata": {},
   "outputs": [],
   "source": [
    "#traindata[['Quantity', 'UnitPrice']].loc[(traindata['Quantity'] < 0)].count()"
   ]
  },
  {
   "cell_type": "code",
   "execution_count": 74,
   "metadata": {},
   "outputs": [],
   "source": [
    "# df_train['Quantity']=abs(df_train['Quantity'])"
   ]
  },
  {
   "cell_type": "code",
   "execution_count": 75,
   "metadata": {},
   "outputs": [],
   "source": [
    "# converting quantity into positives\n",
    "traindata[\"Quantity\"] = np.where(traindata[\"Quantity\"]<0,traindata[\"Quantity\"]*-1,traindata[\"Quantity\"])\n",
    "testdata[\"Quantity\"] = np.where(testdata[\"Quantity\"]<0,testdata[\"Quantity\"]*-1,testdata[\"Quantity\"])"
   ]
  },
  {
   "cell_type": "code",
   "execution_count": 76,
   "metadata": {},
   "outputs": [
    {
     "data": {
      "text/html": [
       "<div>\n",
       "<style scoped>\n",
       "    .dataframe tbody tr th:only-of-type {\n",
       "        vertical-align: middle;\n",
       "    }\n",
       "\n",
       "    .dataframe tbody tr th {\n",
       "        vertical-align: top;\n",
       "    }\n",
       "\n",
       "    .dataframe thead th {\n",
       "        text-align: right;\n",
       "    }\n",
       "</style>\n",
       "<table border=\"1\" class=\"dataframe\">\n",
       "  <thead>\n",
       "    <tr style=\"text-align: right;\">\n",
       "      <th></th>\n",
       "      <th>InvoiceNo</th>\n",
       "      <th>Description</th>\n",
       "      <th>Quantity</th>\n",
       "      <th>UnitPrice</th>\n",
       "      <th>Max_Quantity_CustomerID</th>\n",
       "      <th>Avg_Quantity_CustomerID</th>\n",
       "      <th>Max_Quantity_Description</th>\n",
       "      <th>Avg_Quantity_Description</th>\n",
       "    </tr>\n",
       "  </thead>\n",
       "  <tbody>\n",
       "    <tr>\n",
       "      <th>count</th>\n",
       "      <td>284780.000000</td>\n",
       "      <td>284780.000000</td>\n",
       "      <td>284780.000000</td>\n",
       "      <td>284780.000000</td>\n",
       "      <td>284780.000000</td>\n",
       "      <td>284780.000000</td>\n",
       "      <td>284780.000000</td>\n",
       "      <td>284780.000000</td>\n",
       "    </tr>\n",
       "    <tr>\n",
       "      <th>mean</th>\n",
       "      <td>9955.394083</td>\n",
       "      <td>2023.955573</td>\n",
       "      <td>13.645885</td>\n",
       "      <td>3.449193</td>\n",
       "      <td>131.739813</td>\n",
       "      <td>12.028468</td>\n",
       "      <td>294.090157</td>\n",
       "      <td>12.028468</td>\n",
       "    </tr>\n",
       "    <tr>\n",
       "      <th>std</th>\n",
       "      <td>5551.519138</td>\n",
       "      <td>1089.812078</td>\n",
       "      <td>295.041223</td>\n",
       "      <td>78.382553</td>\n",
       "      <td>426.679586</td>\n",
       "      <td>34.961218</td>\n",
       "      <td>1702.977641</td>\n",
       "      <td>12.860865</td>\n",
       "    </tr>\n",
       "    <tr>\n",
       "      <th>min</th>\n",
       "      <td>0.000000</td>\n",
       "      <td>0.000000</td>\n",
       "      <td>1.000000</td>\n",
       "      <td>0.000000</td>\n",
       "      <td>-1350.000000</td>\n",
       "      <td>-1350.000000</td>\n",
       "      <td>-24.000000</td>\n",
       "      <td>-24.000000</td>\n",
       "    </tr>\n",
       "    <tr>\n",
       "      <th>25%</th>\n",
       "      <td>5069.000000</td>\n",
       "      <td>1141.000000</td>\n",
       "      <td>2.000000</td>\n",
       "      <td>1.250000</td>\n",
       "      <td>25.000000</td>\n",
       "      <td>3.863874</td>\n",
       "      <td>50.000000</td>\n",
       "      <td>5.988550</td>\n",
       "    </tr>\n",
       "    <tr>\n",
       "      <th>50%</th>\n",
       "      <td>10310.000000</td>\n",
       "      <td>1987.000000</td>\n",
       "      <td>5.000000</td>\n",
       "      <td>1.950000</td>\n",
       "      <td>48.000000</td>\n",
       "      <td>8.000000</td>\n",
       "      <td>144.000000</td>\n",
       "      <td>9.655172</td>\n",
       "    </tr>\n",
       "    <tr>\n",
       "      <th>75%</th>\n",
       "      <td>14657.000000</td>\n",
       "      <td>2945.000000</td>\n",
       "      <td>12.000000</td>\n",
       "      <td>3.750000</td>\n",
       "      <td>100.000000</td>\n",
       "      <td>12.456790</td>\n",
       "      <td>288.000000</td>\n",
       "      <td>14.702703</td>\n",
       "    </tr>\n",
       "    <tr>\n",
       "      <th>max</th>\n",
       "      <td>22188.000000</td>\n",
       "      <td>3895.000000</td>\n",
       "      <td>80995.000000</td>\n",
       "      <td>38970.000000</td>\n",
       "      <td>80995.000000</td>\n",
       "      <td>12540.000000</td>\n",
       "      <td>80995.000000</td>\n",
       "      <td>1300.000000</td>\n",
       "    </tr>\n",
       "  </tbody>\n",
       "</table>\n",
       "</div>"
      ],
      "text/plain": [
       "           InvoiceNo    Description       Quantity      UnitPrice  \\\n",
       "count  284780.000000  284780.000000  284780.000000  284780.000000   \n",
       "mean     9955.394083    2023.955573      13.645885       3.449193   \n",
       "std      5551.519138    1089.812078     295.041223      78.382553   \n",
       "min         0.000000       0.000000       1.000000       0.000000   \n",
       "25%      5069.000000    1141.000000       2.000000       1.250000   \n",
       "50%     10310.000000    1987.000000       5.000000       1.950000   \n",
       "75%     14657.000000    2945.000000      12.000000       3.750000   \n",
       "max     22188.000000    3895.000000   80995.000000   38970.000000   \n",
       "\n",
       "       Max_Quantity_CustomerID  Avg_Quantity_CustomerID  \\\n",
       "count            284780.000000            284780.000000   \n",
       "mean                131.739813                12.028468   \n",
       "std                 426.679586                34.961218   \n",
       "min               -1350.000000             -1350.000000   \n",
       "25%                  25.000000                 3.863874   \n",
       "50%                  48.000000                 8.000000   \n",
       "75%                 100.000000                12.456790   \n",
       "max               80995.000000             12540.000000   \n",
       "\n",
       "       Max_Quantity_Description  Avg_Quantity_Description  \n",
       "count             284780.000000             284780.000000  \n",
       "mean                 294.090157                 12.028468  \n",
       "std                 1702.977641                 12.860865  \n",
       "min                  -24.000000                -24.000000  \n",
       "25%                   50.000000                  5.988550  \n",
       "50%                  144.000000                  9.655172  \n",
       "75%                  288.000000                 14.702703  \n",
       "max                80995.000000               1300.000000  "
      ]
     },
     "execution_count": 76,
     "metadata": {},
     "output_type": "execute_result"
    }
   ],
   "source": [
    "traindata.describe()"
   ]
  },
  {
   "cell_type": "code",
   "execution_count": 77,
   "metadata": {},
   "outputs": [
    {
     "data": {
      "text/html": [
       "<div>\n",
       "<style scoped>\n",
       "    .dataframe tbody tr th:only-of-type {\n",
       "        vertical-align: middle;\n",
       "    }\n",
       "\n",
       "    .dataframe tbody tr th {\n",
       "        vertical-align: top;\n",
       "    }\n",
       "\n",
       "    .dataframe thead th {\n",
       "        text-align: right;\n",
       "    }\n",
       "</style>\n",
       "<table border=\"1\" class=\"dataframe\">\n",
       "  <thead>\n",
       "    <tr style=\"text-align: right;\">\n",
       "      <th></th>\n",
       "      <th>InvoiceNo</th>\n",
       "      <th>StockCode</th>\n",
       "      <th>Description</th>\n",
       "      <th>Quantity</th>\n",
       "      <th>UnitPrice</th>\n",
       "      <th>CustomerID</th>\n",
       "      <th>Country</th>\n",
       "      <th>Invoice_month</th>\n",
       "      <th>Day_of_Week</th>\n",
       "      <th>Invoice_hour</th>\n",
       "      <th>Max_Quantity_CustomerID</th>\n",
       "      <th>Avg_Quantity_CustomerID</th>\n",
       "      <th>Max_Quantity_Description</th>\n",
       "      <th>Avg_Quantity_Description</th>\n",
       "    </tr>\n",
       "  </thead>\n",
       "  <tbody>\n",
       "    <tr>\n",
       "      <th>1145</th>\n",
       "      <td>1309</td>\n",
       "      <td>425</td>\n",
       "      <td>2279</td>\n",
       "      <td>960</td>\n",
       "      <td>0.40</td>\n",
       "      <td>13027.0</td>\n",
       "      <td>35</td>\n",
       "      <td>12</td>\n",
       "      <td>0</td>\n",
       "      <td>12</td>\n",
       "      <td>1200</td>\n",
       "      <td>705.000000</td>\n",
       "      <td>1200</td>\n",
       "      <td>30.636483</td>\n",
       "    </tr>\n",
       "    <tr>\n",
       "      <th>1591</th>\n",
       "      <td>3554</td>\n",
       "      <td>1309</td>\n",
       "      <td>275</td>\n",
       "      <td>1200</td>\n",
       "      <td>0.36</td>\n",
       "      <td>16333.0</td>\n",
       "      <td>35</td>\n",
       "      <td>3</td>\n",
       "      <td>4</td>\n",
       "      <td>12</td>\n",
       "      <td>2592</td>\n",
       "      <td>705.666667</td>\n",
       "      <td>1200</td>\n",
       "      <td>50.690000</td>\n",
       "    </tr>\n",
       "    <tr>\n",
       "      <th>1862</th>\n",
       "      <td>10105</td>\n",
       "      <td>2906</td>\n",
       "      <td>1407</td>\n",
       "      <td>1440</td>\n",
       "      <td>0.17</td>\n",
       "      <td>13316.0</td>\n",
       "      <td>35</td>\n",
       "      <td>7</td>\n",
       "      <td>6</td>\n",
       "      <td>11</td>\n",
       "      <td>1440</td>\n",
       "      <td>96.174603</td>\n",
       "      <td>1440</td>\n",
       "      <td>547.764706</td>\n",
       "    </tr>\n",
       "    <tr>\n",
       "      <th>1950</th>\n",
       "      <td>5794</td>\n",
       "      <td>2812</td>\n",
       "      <td>3805</td>\n",
       "      <td>1152</td>\n",
       "      <td>0.21</td>\n",
       "      <td>16333.0</td>\n",
       "      <td>35</td>\n",
       "      <td>4</td>\n",
       "      <td>2</td>\n",
       "      <td>15</td>\n",
       "      <td>2592</td>\n",
       "      <td>705.666667</td>\n",
       "      <td>2592</td>\n",
       "      <td>99.209366</td>\n",
       "    </tr>\n",
       "    <tr>\n",
       "      <th>5758</th>\n",
       "      <td>2752</td>\n",
       "      <td>1547</td>\n",
       "      <td>1537</td>\n",
       "      <td>2400</td>\n",
       "      <td>0.94</td>\n",
       "      <td>16029.0</td>\n",
       "      <td>35</td>\n",
       "      <td>2</td>\n",
       "      <td>4</td>\n",
       "      <td>11</td>\n",
       "      <td>2400</td>\n",
       "      <td>115.021622</td>\n",
       "      <td>2400</td>\n",
       "      <td>72.022222</td>\n",
       "    </tr>\n",
       "    <tr>\n",
       "      <th>...</th>\n",
       "      <td>...</td>\n",
       "      <td>...</td>\n",
       "      <td>...</td>\n",
       "      <td>...</td>\n",
       "      <td>...</td>\n",
       "      <td>...</td>\n",
       "      <td>...</td>\n",
       "      <td>...</td>\n",
       "      <td>...</td>\n",
       "      <td>...</td>\n",
       "      <td>...</td>\n",
       "      <td>...</td>\n",
       "      <td>...</td>\n",
       "      <td>...</td>\n",
       "    </tr>\n",
       "    <tr>\n",
       "      <th>275905</th>\n",
       "      <td>10344</td>\n",
       "      <td>1092</td>\n",
       "      <td>2612</td>\n",
       "      <td>1900</td>\n",
       "      <td>0.72</td>\n",
       "      <td>12931.0</td>\n",
       "      <td>35</td>\n",
       "      <td>8</td>\n",
       "      <td>3</td>\n",
       "      <td>18</td>\n",
       "      <td>1900</td>\n",
       "      <td>189.073529</td>\n",
       "      <td>1992</td>\n",
       "      <td>45.737271</td>\n",
       "    </tr>\n",
       "    <tr>\n",
       "      <th>279013</th>\n",
       "      <td>4617</td>\n",
       "      <td>2906</td>\n",
       "      <td>1407</td>\n",
       "      <td>1440</td>\n",
       "      <td>0.17</td>\n",
       "      <td>13316.0</td>\n",
       "      <td>35</td>\n",
       "      <td>3</td>\n",
       "      <td>2</td>\n",
       "      <td>13</td>\n",
       "      <td>1440</td>\n",
       "      <td>96.174603</td>\n",
       "      <td>1440</td>\n",
       "      <td>547.764706</td>\n",
       "    </tr>\n",
       "    <tr>\n",
       "      <th>279948</th>\n",
       "      <td>11434</td>\n",
       "      <td>2906</td>\n",
       "      <td>1407</td>\n",
       "      <td>1440</td>\n",
       "      <td>0.17</td>\n",
       "      <td>13069.0</td>\n",
       "      <td>35</td>\n",
       "      <td>9</td>\n",
       "      <td>3</td>\n",
       "      <td>11</td>\n",
       "      <td>1440</td>\n",
       "      <td>12.742236</td>\n",
       "      <td>1440</td>\n",
       "      <td>547.764706</td>\n",
       "    </tr>\n",
       "    <tr>\n",
       "      <th>284132</th>\n",
       "      <td>5557</td>\n",
       "      <td>425</td>\n",
       "      <td>2279</td>\n",
       "      <td>960</td>\n",
       "      <td>0.40</td>\n",
       "      <td>13027.0</td>\n",
       "      <td>35</td>\n",
       "      <td>4</td>\n",
       "      <td>2</td>\n",
       "      <td>9</td>\n",
       "      <td>1200</td>\n",
       "      <td>705.000000</td>\n",
       "      <td>1200</td>\n",
       "      <td>30.636483</td>\n",
       "    </tr>\n",
       "    <tr>\n",
       "      <th>284146</th>\n",
       "      <td>2510</td>\n",
       "      <td>2812</td>\n",
       "      <td>3805</td>\n",
       "      <td>2592</td>\n",
       "      <td>0.21</td>\n",
       "      <td>16333.0</td>\n",
       "      <td>35</td>\n",
       "      <td>2</td>\n",
       "      <td>3</td>\n",
       "      <td>10</td>\n",
       "      <td>2592</td>\n",
       "      <td>705.666667</td>\n",
       "      <td>2592</td>\n",
       "      <td>99.209366</td>\n",
       "    </tr>\n",
       "  </tbody>\n",
       "</table>\n",
       "<p>102 rows × 14 columns</p>\n",
       "</div>"
      ],
      "text/plain": [
       "        InvoiceNo StockCode  Description  Quantity  UnitPrice CustomerID  \\\n",
       "1145         1309       425         2279       960       0.40    13027.0   \n",
       "1591         3554      1309          275      1200       0.36    16333.0   \n",
       "1862        10105      2906         1407      1440       0.17    13316.0   \n",
       "1950         5794      2812         3805      1152       0.21    16333.0   \n",
       "5758         2752      1547         1537      2400       0.94    16029.0   \n",
       "...           ...       ...          ...       ...        ...        ...   \n",
       "275905      10344      1092         2612      1900       0.72    12931.0   \n",
       "279013       4617      2906         1407      1440       0.17    13316.0   \n",
       "279948      11434      2906         1407      1440       0.17    13069.0   \n",
       "284132       5557       425         2279       960       0.40    13027.0   \n",
       "284146       2510      2812         3805      2592       0.21    16333.0   \n",
       "\n",
       "       Country Invoice_month Day_of_Week Invoice_hour  \\\n",
       "1145        35            12           0           12   \n",
       "1591        35             3           4           12   \n",
       "1862        35             7           6           11   \n",
       "1950        35             4           2           15   \n",
       "5758        35             2           4           11   \n",
       "...        ...           ...         ...          ...   \n",
       "275905      35             8           3           18   \n",
       "279013      35             3           2           13   \n",
       "279948      35             9           3           11   \n",
       "284132      35             4           2            9   \n",
       "284146      35             2           3           10   \n",
       "\n",
       "        Max_Quantity_CustomerID  Avg_Quantity_CustomerID  \\\n",
       "1145                       1200               705.000000   \n",
       "1591                       2592               705.666667   \n",
       "1862                       1440                96.174603   \n",
       "1950                       2592               705.666667   \n",
       "5758                       2400               115.021622   \n",
       "...                         ...                      ...   \n",
       "275905                     1900               189.073529   \n",
       "279013                     1440                96.174603   \n",
       "279948                     1440                12.742236   \n",
       "284132                     1200               705.000000   \n",
       "284146                     2592               705.666667   \n",
       "\n",
       "        Max_Quantity_Description  Avg_Quantity_Description  \n",
       "1145                        1200                 30.636483  \n",
       "1591                        1200                 50.690000  \n",
       "1862                        1440                547.764706  \n",
       "1950                        2592                 99.209366  \n",
       "5758                        2400                 72.022222  \n",
       "...                          ...                       ...  \n",
       "275905                      1992                 45.737271  \n",
       "279013                      1440                547.764706  \n",
       "279948                      1440                547.764706  \n",
       "284132                      1200                 30.636483  \n",
       "284146                      2592                 99.209366  \n",
       "\n",
       "[102 rows x 14 columns]"
      ]
     },
     "execution_count": 77,
     "metadata": {},
     "output_type": "execute_result"
    }
   ],
   "source": [
    "traindata.loc[(traindata['Quantity'] >= 900)]\n",
    "#hackathon_train.shape"
   ]
  },
  {
   "cell_type": "code",
   "execution_count": 78,
   "metadata": {},
   "outputs": [
    {
     "data": {
      "text/plain": [
       "InvoiceNo                   49\n",
       "StockCode                   49\n",
       "Description                 49\n",
       "Quantity                    49\n",
       "CustomerID                  49\n",
       "Country                     49\n",
       "Invoice_month               49\n",
       "Day_of_Week                 49\n",
       "Invoice_hour                49\n",
       "Max_Quantity_CustomerID     49\n",
       "Avg_Quantity_CustomerID     49\n",
       "Max_Quantity_Description    49\n",
       "Avg_Quantity_Description    49\n",
       "dtype: int64"
      ]
     },
     "execution_count": 78,
     "metadata": {},
     "output_type": "execute_result"
    }
   ],
   "source": [
    "testdata.loc[(testdata['Quantity'] >= 900)].count()\n"
   ]
  },
  {
   "cell_type": "code",
   "execution_count": 79,
   "metadata": {},
   "outputs": [],
   "source": [
    "traindata['Quantity'] = traindata['Quantity'].astype(np.float32) # change it to int16 from int64 to save memory\n",
    "testdata['Quantity'] = testdata['Quantity'].astype(np.float32) # change it to int16 from int64 to save memory"
   ]
  },
  {
   "cell_type": "code",
   "execution_count": 80,
   "metadata": {},
   "outputs": [
    {
     "data": {
      "text/html": [
       "<div>\n",
       "<style scoped>\n",
       "    .dataframe tbody tr th:only-of-type {\n",
       "        vertical-align: middle;\n",
       "    }\n",
       "\n",
       "    .dataframe tbody tr th {\n",
       "        vertical-align: top;\n",
       "    }\n",
       "\n",
       "    .dataframe thead th {\n",
       "        text-align: right;\n",
       "    }\n",
       "</style>\n",
       "<table border=\"1\" class=\"dataframe\">\n",
       "  <thead>\n",
       "    <tr style=\"text-align: right;\">\n",
       "      <th></th>\n",
       "      <th>Quantity</th>\n",
       "      <th>UnitPrice</th>\n",
       "    </tr>\n",
       "  </thead>\n",
       "  <tbody>\n",
       "    <tr>\n",
       "      <th>15291</th>\n",
       "      <td>1.0</td>\n",
       "      <td>0.0</td>\n",
       "    </tr>\n",
       "    <tr>\n",
       "      <th>26477</th>\n",
       "      <td>12540.0</td>\n",
       "      <td>0.0</td>\n",
       "    </tr>\n",
       "    <tr>\n",
       "      <th>35916</th>\n",
       "      <td>11.0</td>\n",
       "      <td>0.0</td>\n",
       "    </tr>\n",
       "    <tr>\n",
       "      <th>47866</th>\n",
       "      <td>4.0</td>\n",
       "      <td>0.0</td>\n",
       "    </tr>\n",
       "    <tr>\n",
       "      <th>57601</th>\n",
       "      <td>2.0</td>\n",
       "      <td>0.0</td>\n",
       "    </tr>\n",
       "  </tbody>\n",
       "</table>\n",
       "</div>"
      ],
      "text/plain": [
       "       Quantity  UnitPrice\n",
       "15291       1.0        0.0\n",
       "26477   12540.0        0.0\n",
       "35916      11.0        0.0\n",
       "47866       4.0        0.0\n",
       "57601       2.0        0.0"
      ]
     },
     "execution_count": 80,
     "metadata": {},
     "output_type": "execute_result"
    }
   ],
   "source": [
    "# unit prize zero when quantity is not\n",
    "traindata[['Quantity', 'UnitPrice']].loc[(traindata['UnitPrice'] == 0)].head()"
   ]
  },
  {
   "cell_type": "markdown",
   "metadata": {},
   "source": [
    "### Outliers"
   ]
  },
  {
   "cell_type": "code",
   "execution_count": 81,
   "metadata": {},
   "outputs": [],
   "source": [
    "import numpy as np \n",
    "from scipy import stats \n",
    "#traindata_zscores = stats.zscore(traindata[['InvoiceNo', 'StockCode', 'Description', 'Quantity', 'UnitPrice', 'CustomerID', 'Country']])"
   ]
  },
  {
   "cell_type": "code",
   "execution_count": 82,
   "metadata": {},
   "outputs": [],
   "source": [
    "#threshold = 3\n",
    "#print(np.where(traindata_zscores > 3))"
   ]
  },
  {
   "cell_type": "code",
   "execution_count": 83,
   "metadata": {},
   "outputs": [],
   "source": [
    "traindata['Quantity_zscore'] = stats.zscore(traindata['Quantity'])"
   ]
  },
  {
   "cell_type": "code",
   "execution_count": 84,
   "metadata": {},
   "outputs": [
    {
     "data": {
      "text/html": [
       "<div>\n",
       "<style scoped>\n",
       "    .dataframe tbody tr th:only-of-type {\n",
       "        vertical-align: middle;\n",
       "    }\n",
       "\n",
       "    .dataframe tbody tr th {\n",
       "        vertical-align: top;\n",
       "    }\n",
       "\n",
       "    .dataframe thead th {\n",
       "        text-align: right;\n",
       "    }\n",
       "</style>\n",
       "<table border=\"1\" class=\"dataframe\">\n",
       "  <thead>\n",
       "    <tr style=\"text-align: right;\">\n",
       "      <th></th>\n",
       "      <th>InvoiceNo</th>\n",
       "      <th>StockCode</th>\n",
       "      <th>Description</th>\n",
       "      <th>Quantity</th>\n",
       "      <th>UnitPrice</th>\n",
       "      <th>CustomerID</th>\n",
       "      <th>Country</th>\n",
       "      <th>Invoice_month</th>\n",
       "      <th>Day_of_Week</th>\n",
       "      <th>Invoice_hour</th>\n",
       "      <th>Max_Quantity_CustomerID</th>\n",
       "      <th>Avg_Quantity_CustomerID</th>\n",
       "      <th>Max_Quantity_Description</th>\n",
       "      <th>Avg_Quantity_Description</th>\n",
       "      <th>Quantity_zscore</th>\n",
       "    </tr>\n",
       "  </thead>\n",
       "  <tbody>\n",
       "    <tr>\n",
       "      <th>1145</th>\n",
       "      <td>1309</td>\n",
       "      <td>425</td>\n",
       "      <td>2279</td>\n",
       "      <td>960.0</td>\n",
       "      <td>0.40</td>\n",
       "      <td>13027.0</td>\n",
       "      <td>35</td>\n",
       "      <td>12</td>\n",
       "      <td>0</td>\n",
       "      <td>12</td>\n",
       "      <td>1200</td>\n",
       "      <td>705.000000</td>\n",
       "      <td>1200</td>\n",
       "      <td>30.636483</td>\n",
       "      <td>3.207538</td>\n",
       "    </tr>\n",
       "    <tr>\n",
       "      <th>1591</th>\n",
       "      <td>3554</td>\n",
       "      <td>1309</td>\n",
       "      <td>275</td>\n",
       "      <td>1200.0</td>\n",
       "      <td>0.36</td>\n",
       "      <td>16333.0</td>\n",
       "      <td>35</td>\n",
       "      <td>3</td>\n",
       "      <td>4</td>\n",
       "      <td>12</td>\n",
       "      <td>2592</td>\n",
       "      <td>705.666667</td>\n",
       "      <td>1200</td>\n",
       "      <td>50.690000</td>\n",
       "      <td>4.020985</td>\n",
       "    </tr>\n",
       "    <tr>\n",
       "      <th>1862</th>\n",
       "      <td>10105</td>\n",
       "      <td>2906</td>\n",
       "      <td>1407</td>\n",
       "      <td>1440.0</td>\n",
       "      <td>0.17</td>\n",
       "      <td>13316.0</td>\n",
       "      <td>35</td>\n",
       "      <td>7</td>\n",
       "      <td>6</td>\n",
       "      <td>11</td>\n",
       "      <td>1440</td>\n",
       "      <td>96.174603</td>\n",
       "      <td>1440</td>\n",
       "      <td>547.764706</td>\n",
       "      <td>4.834432</td>\n",
       "    </tr>\n",
       "    <tr>\n",
       "      <th>1950</th>\n",
       "      <td>5794</td>\n",
       "      <td>2812</td>\n",
       "      <td>3805</td>\n",
       "      <td>1152.0</td>\n",
       "      <td>0.21</td>\n",
       "      <td>16333.0</td>\n",
       "      <td>35</td>\n",
       "      <td>4</td>\n",
       "      <td>2</td>\n",
       "      <td>15</td>\n",
       "      <td>2592</td>\n",
       "      <td>705.666667</td>\n",
       "      <td>2592</td>\n",
       "      <td>99.209366</td>\n",
       "      <td>3.858295</td>\n",
       "    </tr>\n",
       "    <tr>\n",
       "      <th>5758</th>\n",
       "      <td>2752</td>\n",
       "      <td>1547</td>\n",
       "      <td>1537</td>\n",
       "      <td>2400.0</td>\n",
       "      <td>0.94</td>\n",
       "      <td>16029.0</td>\n",
       "      <td>35</td>\n",
       "      <td>2</td>\n",
       "      <td>4</td>\n",
       "      <td>11</td>\n",
       "      <td>2400</td>\n",
       "      <td>115.021622</td>\n",
       "      <td>2400</td>\n",
       "      <td>72.022222</td>\n",
       "      <td>8.088221</td>\n",
       "    </tr>\n",
       "    <tr>\n",
       "      <th>...</th>\n",
       "      <td>...</td>\n",
       "      <td>...</td>\n",
       "      <td>...</td>\n",
       "      <td>...</td>\n",
       "      <td>...</td>\n",
       "      <td>...</td>\n",
       "      <td>...</td>\n",
       "      <td>...</td>\n",
       "      <td>...</td>\n",
       "      <td>...</td>\n",
       "      <td>...</td>\n",
       "      <td>...</td>\n",
       "      <td>...</td>\n",
       "      <td>...</td>\n",
       "      <td>...</td>\n",
       "    </tr>\n",
       "    <tr>\n",
       "      <th>275905</th>\n",
       "      <td>10344</td>\n",
       "      <td>1092</td>\n",
       "      <td>2612</td>\n",
       "      <td>1900.0</td>\n",
       "      <td>0.72</td>\n",
       "      <td>12931.0</td>\n",
       "      <td>35</td>\n",
       "      <td>8</td>\n",
       "      <td>3</td>\n",
       "      <td>18</td>\n",
       "      <td>1900</td>\n",
       "      <td>189.073529</td>\n",
       "      <td>1992</td>\n",
       "      <td>45.737271</td>\n",
       "      <td>6.393539</td>\n",
       "    </tr>\n",
       "    <tr>\n",
       "      <th>279013</th>\n",
       "      <td>4617</td>\n",
       "      <td>2906</td>\n",
       "      <td>1407</td>\n",
       "      <td>1440.0</td>\n",
       "      <td>0.17</td>\n",
       "      <td>13316.0</td>\n",
       "      <td>35</td>\n",
       "      <td>3</td>\n",
       "      <td>2</td>\n",
       "      <td>13</td>\n",
       "      <td>1440</td>\n",
       "      <td>96.174603</td>\n",
       "      <td>1440</td>\n",
       "      <td>547.764706</td>\n",
       "      <td>4.834432</td>\n",
       "    </tr>\n",
       "    <tr>\n",
       "      <th>279948</th>\n",
       "      <td>11434</td>\n",
       "      <td>2906</td>\n",
       "      <td>1407</td>\n",
       "      <td>1440.0</td>\n",
       "      <td>0.17</td>\n",
       "      <td>13069.0</td>\n",
       "      <td>35</td>\n",
       "      <td>9</td>\n",
       "      <td>3</td>\n",
       "      <td>11</td>\n",
       "      <td>1440</td>\n",
       "      <td>12.742236</td>\n",
       "      <td>1440</td>\n",
       "      <td>547.764706</td>\n",
       "      <td>4.834432</td>\n",
       "    </tr>\n",
       "    <tr>\n",
       "      <th>284132</th>\n",
       "      <td>5557</td>\n",
       "      <td>425</td>\n",
       "      <td>2279</td>\n",
       "      <td>960.0</td>\n",
       "      <td>0.40</td>\n",
       "      <td>13027.0</td>\n",
       "      <td>35</td>\n",
       "      <td>4</td>\n",
       "      <td>2</td>\n",
       "      <td>9</td>\n",
       "      <td>1200</td>\n",
       "      <td>705.000000</td>\n",
       "      <td>1200</td>\n",
       "      <td>30.636483</td>\n",
       "      <td>3.207538</td>\n",
       "    </tr>\n",
       "    <tr>\n",
       "      <th>284146</th>\n",
       "      <td>2510</td>\n",
       "      <td>2812</td>\n",
       "      <td>3805</td>\n",
       "      <td>2592.0</td>\n",
       "      <td>0.21</td>\n",
       "      <td>16333.0</td>\n",
       "      <td>35</td>\n",
       "      <td>2</td>\n",
       "      <td>3</td>\n",
       "      <td>10</td>\n",
       "      <td>2592</td>\n",
       "      <td>705.666667</td>\n",
       "      <td>2592</td>\n",
       "      <td>99.209366</td>\n",
       "      <td>8.738978</td>\n",
       "    </tr>\n",
       "  </tbody>\n",
       "</table>\n",
       "<p>102 rows × 15 columns</p>\n",
       "</div>"
      ],
      "text/plain": [
       "        InvoiceNo StockCode  Description  Quantity  UnitPrice CustomerID  \\\n",
       "1145         1309       425         2279     960.0       0.40    13027.0   \n",
       "1591         3554      1309          275    1200.0       0.36    16333.0   \n",
       "1862        10105      2906         1407    1440.0       0.17    13316.0   \n",
       "1950         5794      2812         3805    1152.0       0.21    16333.0   \n",
       "5758         2752      1547         1537    2400.0       0.94    16029.0   \n",
       "...           ...       ...          ...       ...        ...        ...   \n",
       "275905      10344      1092         2612    1900.0       0.72    12931.0   \n",
       "279013       4617      2906         1407    1440.0       0.17    13316.0   \n",
       "279948      11434      2906         1407    1440.0       0.17    13069.0   \n",
       "284132       5557       425         2279     960.0       0.40    13027.0   \n",
       "284146       2510      2812         3805    2592.0       0.21    16333.0   \n",
       "\n",
       "       Country Invoice_month Day_of_Week Invoice_hour  \\\n",
       "1145        35            12           0           12   \n",
       "1591        35             3           4           12   \n",
       "1862        35             7           6           11   \n",
       "1950        35             4           2           15   \n",
       "5758        35             2           4           11   \n",
       "...        ...           ...         ...          ...   \n",
       "275905      35             8           3           18   \n",
       "279013      35             3           2           13   \n",
       "279948      35             9           3           11   \n",
       "284132      35             4           2            9   \n",
       "284146      35             2           3           10   \n",
       "\n",
       "        Max_Quantity_CustomerID  Avg_Quantity_CustomerID  \\\n",
       "1145                       1200               705.000000   \n",
       "1591                       2592               705.666667   \n",
       "1862                       1440                96.174603   \n",
       "1950                       2592               705.666667   \n",
       "5758                       2400               115.021622   \n",
       "...                         ...                      ...   \n",
       "275905                     1900               189.073529   \n",
       "279013                     1440                96.174603   \n",
       "279948                     1440                12.742236   \n",
       "284132                     1200               705.000000   \n",
       "284146                     2592               705.666667   \n",
       "\n",
       "        Max_Quantity_Description  Avg_Quantity_Description  Quantity_zscore  \n",
       "1145                        1200                 30.636483         3.207538  \n",
       "1591                        1200                 50.690000         4.020985  \n",
       "1862                        1440                547.764706         4.834432  \n",
       "1950                        2592                 99.209366         3.858295  \n",
       "5758                        2400                 72.022222         8.088221  \n",
       "...                          ...                       ...              ...  \n",
       "275905                      1992                 45.737271         6.393539  \n",
       "279013                      1440                547.764706         4.834432  \n",
       "279948                      1440                547.764706         4.834432  \n",
       "284132                      1200                 30.636483         3.207538  \n",
       "284146                      2592                 99.209366         8.738978  \n",
       "\n",
       "[102 rows x 15 columns]"
      ]
     },
     "execution_count": 84,
     "metadata": {},
     "output_type": "execute_result"
    }
   ],
   "source": [
    "traindata.loc[(traindata['Quantity_zscore']>=3) | (traindata['Quantity_zscore']<= -3)]"
   ]
  },
  {
   "cell_type": "code",
   "execution_count": 85,
   "metadata": {},
   "outputs": [
    {
     "data": {
      "text/html": [
       "<div>\n",
       "<style scoped>\n",
       "    .dataframe tbody tr th:only-of-type {\n",
       "        vertical-align: middle;\n",
       "    }\n",
       "\n",
       "    .dataframe tbody tr th {\n",
       "        vertical-align: top;\n",
       "    }\n",
       "\n",
       "    .dataframe thead th {\n",
       "        text-align: right;\n",
       "    }\n",
       "</style>\n",
       "<table border=\"1\" class=\"dataframe\">\n",
       "  <thead>\n",
       "    <tr style=\"text-align: right;\">\n",
       "      <th></th>\n",
       "      <th>InvoiceNo</th>\n",
       "      <th>StockCode</th>\n",
       "      <th>Description</th>\n",
       "      <th>Quantity</th>\n",
       "      <th>CustomerID</th>\n",
       "      <th>Country</th>\n",
       "      <th>Invoice_month</th>\n",
       "      <th>Day_of_Week</th>\n",
       "      <th>Invoice_hour</th>\n",
       "      <th>Max_Quantity_CustomerID</th>\n",
       "      <th>Avg_Quantity_CustomerID</th>\n",
       "      <th>Max_Quantity_Description</th>\n",
       "      <th>Avg_Quantity_Description</th>\n",
       "      <th>Quantity_zscore</th>\n",
       "    </tr>\n",
       "  </thead>\n",
       "  <tbody>\n",
       "    <tr>\n",
       "      <th>110</th>\n",
       "      <td>6461</td>\n",
       "      <td>1354</td>\n",
       "      <td>2255</td>\n",
       "      <td>432.0</td>\n",
       "      <td>17404.0</td>\n",
       "      <td>31</td>\n",
       "      <td>5</td>\n",
       "      <td>3</td>\n",
       "      <td>12</td>\n",
       "      <td>768</td>\n",
       "      <td>169.621212</td>\n",
       "      <td>432</td>\n",
       "      <td>36.805556</td>\n",
       "      <td>7.741179</td>\n",
       "    </tr>\n",
       "    <tr>\n",
       "      <th>409</th>\n",
       "      <td>14641</td>\n",
       "      <td>968</td>\n",
       "      <td>758</td>\n",
       "      <td>1200.0</td>\n",
       "      <td>13685.0</td>\n",
       "      <td>35</td>\n",
       "      <td>10</td>\n",
       "      <td>1</td>\n",
       "      <td>13</td>\n",
       "      <td>1200</td>\n",
       "      <td>269.909091</td>\n",
       "      <td>1200</td>\n",
       "      <td>50.192308</td>\n",
       "      <td>21.925764</td>\n",
       "    </tr>\n",
       "    <tr>\n",
       "      <th>434</th>\n",
       "      <td>12524</td>\n",
       "      <td>2037</td>\n",
       "      <td>1779</td>\n",
       "      <td>200.0</td>\n",
       "      <td>14887.0</td>\n",
       "      <td>35</td>\n",
       "      <td>9</td>\n",
       "      <td>2</td>\n",
       "      <td>15</td>\n",
       "      <td>200</td>\n",
       "      <td>200.000000</td>\n",
       "      <td>200</td>\n",
       "      <td>15.593750</td>\n",
       "      <td>3.456252</td>\n",
       "    </tr>\n",
       "    <tr>\n",
       "      <th>478</th>\n",
       "      <td>13361</td>\n",
       "      <td>47</td>\n",
       "      <td>3847</td>\n",
       "      <td>400.0</td>\n",
       "      <td>16684.0</td>\n",
       "      <td>35</td>\n",
       "      <td>10</td>\n",
       "      <td>2</td>\n",
       "      <td>10</td>\n",
       "      <td>600</td>\n",
       "      <td>182.860465</td>\n",
       "      <td>400</td>\n",
       "      <td>37.837838</td>\n",
       "      <td>7.150155</td>\n",
       "    </tr>\n",
       "    <tr>\n",
       "      <th>549</th>\n",
       "      <td>6512</td>\n",
       "      <td>2637</td>\n",
       "      <td>3317</td>\n",
       "      <td>600.0</td>\n",
       "      <td>13953.0</td>\n",
       "      <td>35</td>\n",
       "      <td>5</td>\n",
       "      <td>4</td>\n",
       "      <td>9</td>\n",
       "      <td>600</td>\n",
       "      <td>242.000000</td>\n",
       "      <td>600</td>\n",
       "      <td>96.230769</td>\n",
       "      <td>10.844057</td>\n",
       "    </tr>\n",
       "    <tr>\n",
       "      <th>...</th>\n",
       "      <td>...</td>\n",
       "      <td>...</td>\n",
       "      <td>...</td>\n",
       "      <td>...</td>\n",
       "      <td>...</td>\n",
       "      <td>...</td>\n",
       "      <td>...</td>\n",
       "      <td>...</td>\n",
       "      <td>...</td>\n",
       "      <td>...</td>\n",
       "      <td>...</td>\n",
       "      <td>...</td>\n",
       "      <td>...</td>\n",
       "      <td>...</td>\n",
       "    </tr>\n",
       "    <tr>\n",
       "      <th>121341</th>\n",
       "      <td>14124</td>\n",
       "      <td>2186</td>\n",
       "      <td>2943</td>\n",
       "      <td>384.0</td>\n",
       "      <td>17404.0</td>\n",
       "      <td>31</td>\n",
       "      <td>10</td>\n",
       "      <td>0</td>\n",
       "      <td>10</td>\n",
       "      <td>768</td>\n",
       "      <td>169.621212</td>\n",
       "      <td>384</td>\n",
       "      <td>15.473684</td>\n",
       "      <td>6.854642</td>\n",
       "    </tr>\n",
       "    <tr>\n",
       "      <th>121644</th>\n",
       "      <td>5735</td>\n",
       "      <td>638</td>\n",
       "      <td>658</td>\n",
       "      <td>408.0</td>\n",
       "      <td>17857.0</td>\n",
       "      <td>35</td>\n",
       "      <td>4</td>\n",
       "      <td>1</td>\n",
       "      <td>16</td>\n",
       "      <td>800</td>\n",
       "      <td>289.333333</td>\n",
       "      <td>408</td>\n",
       "      <td>33.714286</td>\n",
       "      <td>7.297911</td>\n",
       "    </tr>\n",
       "    <tr>\n",
       "      <th>121737</th>\n",
       "      <td>17522</td>\n",
       "      <td>1804</td>\n",
       "      <td>3825</td>\n",
       "      <td>250.0</td>\n",
       "      <td>12657.0</td>\n",
       "      <td>13</td>\n",
       "      <td>11</td>\n",
       "      <td>0</td>\n",
       "      <td>15</td>\n",
       "      <td>250</td>\n",
       "      <td>5.714286</td>\n",
       "      <td>250</td>\n",
       "      <td>27.906977</td>\n",
       "      <td>4.379727</td>\n",
       "    </tr>\n",
       "    <tr>\n",
       "      <th>121967</th>\n",
       "      <td>13794</td>\n",
       "      <td>1429</td>\n",
       "      <td>1205</td>\n",
       "      <td>240.0</td>\n",
       "      <td>16029.0</td>\n",
       "      <td>35</td>\n",
       "      <td>10</td>\n",
       "      <td>1</td>\n",
       "      <td>11</td>\n",
       "      <td>1296</td>\n",
       "      <td>122.123596</td>\n",
       "      <td>240</td>\n",
       "      <td>11.752475</td>\n",
       "      <td>4.195032</td>\n",
       "    </tr>\n",
       "    <tr>\n",
       "      <th>122020</th>\n",
       "      <td>13388</td>\n",
       "      <td>1488</td>\n",
       "      <td>785</td>\n",
       "      <td>192.0</td>\n",
       "      <td>12415.0</td>\n",
       "      <td>0</td>\n",
       "      <td>10</td>\n",
       "      <td>2</td>\n",
       "      <td>12</td>\n",
       "      <td>1152</td>\n",
       "      <td>101.251142</td>\n",
       "      <td>192</td>\n",
       "      <td>14.481013</td>\n",
       "      <td>3.308496</td>\n",
       "    </tr>\n",
       "  </tbody>\n",
       "</table>\n",
       "<p>799 rows × 14 columns</p>\n",
       "</div>"
      ],
      "text/plain": [
       "        InvoiceNo StockCode  Description  Quantity CustomerID Country  \\\n",
       "110          6461      1354         2255     432.0    17404.0      31   \n",
       "409         14641       968          758    1200.0    13685.0      35   \n",
       "434         12524      2037         1779     200.0    14887.0      35   \n",
       "478         13361        47         3847     400.0    16684.0      35   \n",
       "549          6512      2637         3317     600.0    13953.0      35   \n",
       "...           ...       ...          ...       ...        ...     ...   \n",
       "121341      14124      2186         2943     384.0    17404.0      31   \n",
       "121644       5735       638          658     408.0    17857.0      35   \n",
       "121737      17522      1804         3825     250.0    12657.0      13   \n",
       "121967      13794      1429         1205     240.0    16029.0      35   \n",
       "122020      13388      1488          785     192.0    12415.0       0   \n",
       "\n",
       "       Invoice_month Day_of_Week Invoice_hour  Max_Quantity_CustomerID  \\\n",
       "110                5           3           12                      768   \n",
       "409               10           1           13                     1200   \n",
       "434                9           2           15                      200   \n",
       "478               10           2           10                      600   \n",
       "549                5           4            9                      600   \n",
       "...              ...         ...          ...                      ...   \n",
       "121341            10           0           10                      768   \n",
       "121644             4           1           16                      800   \n",
       "121737            11           0           15                      250   \n",
       "121967            10           1           11                     1296   \n",
       "122020            10           2           12                     1152   \n",
       "\n",
       "        Avg_Quantity_CustomerID  Max_Quantity_Description  \\\n",
       "110                  169.621212                       432   \n",
       "409                  269.909091                      1200   \n",
       "434                  200.000000                       200   \n",
       "478                  182.860465                       400   \n",
       "549                  242.000000                       600   \n",
       "...                         ...                       ...   \n",
       "121341               169.621212                       384   \n",
       "121644               289.333333                       408   \n",
       "121737                 5.714286                       250   \n",
       "121967               122.123596                       240   \n",
       "122020               101.251142                       192   \n",
       "\n",
       "        Avg_Quantity_Description  Quantity_zscore  \n",
       "110                    36.805556         7.741179  \n",
       "409                    50.192308        21.925764  \n",
       "434                    15.593750         3.456252  \n",
       "478                    37.837838         7.150155  \n",
       "549                    96.230769        10.844057  \n",
       "...                          ...              ...  \n",
       "121341                 15.473684         6.854642  \n",
       "121644                 33.714286         7.297911  \n",
       "121737                 27.906977         4.379727  \n",
       "121967                 11.752475         4.195032  \n",
       "122020                 14.481013         3.308496  \n",
       "\n",
       "[799 rows x 14 columns]"
      ]
     },
     "execution_count": 85,
     "metadata": {},
     "output_type": "execute_result"
    }
   ],
   "source": [
    "# df.loc[(df['Salary_in_1000']>=100) & (df['Age']< 60) & (df['FT_Team'].str.startswith('S')),['Name','FT_Team']]\n",
    "testdata['Quantity_zscore'] = stats.zscore(testdata['Quantity'])\n",
    "testdata.loc[(testdata['Quantity_zscore']>=3) | (testdata['Quantity_zscore']<= -3)]"
   ]
  },
  {
   "cell_type": "code",
   "execution_count": 86,
   "metadata": {},
   "outputs": [
    {
     "data": {
      "text/plain": [
       "InvoiceNo                      int64\n",
       "StockCode                   category\n",
       "Description                    int64\n",
       "Quantity                     float32\n",
       "UnitPrice                    float32\n",
       "CustomerID                  category\n",
       "Country                     category\n",
       "Invoice_month               category\n",
       "Day_of_Week                 category\n",
       "Invoice_hour                category\n",
       "Max_Quantity_CustomerID        int32\n",
       "Avg_Quantity_CustomerID      float64\n",
       "Max_Quantity_Description       int32\n",
       "Avg_Quantity_Description     float64\n",
       "Quantity_zscore              float32\n",
       "dtype: object"
      ]
     },
     "execution_count": 86,
     "metadata": {},
     "output_type": "execute_result"
    }
   ],
   "source": [
    "traindata.dtypes"
   ]
  },
  {
   "cell_type": "code",
   "execution_count": 87,
   "metadata": {},
   "outputs": [],
   "source": [
    "#traindata.drop('Quantity_zscore',axis=1,inplace=True)\n",
    "#testdata.drop('Quantity_zscore',axis=1,inplace=True)"
   ]
  },
  {
   "cell_type": "code",
   "execution_count": null,
   "metadata": {},
   "outputs": [],
   "source": []
  },
  {
   "cell_type": "code",
   "execution_count": 88,
   "metadata": {},
   "outputs": [],
   "source": [
    "traindata[['Country','Invoice_month','Invoice_hour','Day_of_Week']] = traindata[['Country','Invoice_month','Invoice_hour','Day_of_Week']].astype('category')\n",
    "testdata[['Country','Invoice_month','Invoice_hour','Day_of_Week']] = testdata[['Country','Invoice_month','Invoice_hour','Day_of_Week']].astype('category')\n"
   ]
  },
  {
   "cell_type": "code",
   "execution_count": 89,
   "metadata": {},
   "outputs": [],
   "source": [
    "traindata.drop(['InvoiceNo'],axis=1,inplace=True)\n",
    "testdata.drop(['InvoiceNo'],axis=1,inplace=True)"
   ]
  },
  {
   "cell_type": "code",
   "execution_count": 91,
   "metadata": {},
   "outputs": [],
   "source": [
    "# traindata.drop(['InvoiceDate'],axis=1,inplace=True)\n",
    "# testdata.drop(['InvoiceDate'],axis=1,inplace=True)"
   ]
  },
  {
   "cell_type": "code",
   "execution_count": null,
   "metadata": {},
   "outputs": [],
   "source": []
  },
  {
   "cell_type": "markdown",
   "metadata": {},
   "source": [
    "### Decoupling"
   ]
  },
  {
   "cell_type": "code",
   "execution_count": 92,
   "metadata": {},
   "outputs": [
    {
     "name": "stdout",
     "output_type": "stream",
     "text": [
      "(284780,)\n",
      "(284780, 13)\n"
     ]
    }
   ],
   "source": [
    "y = traindata['UnitPrice']\n",
    "print(y.shape)\n",
    "X = traindata[traindata.columns.difference(['UnitPrice'])]  ## Select all columns except \"Amount\"\n",
    "print(X.shape)"
   ]
  },
  {
   "cell_type": "code",
   "execution_count": 93,
   "metadata": {},
   "outputs": [
    {
     "data": {
      "text/plain": [
       "['Avg_Quantity_CustomerID',\n",
       " 'Avg_Quantity_Description',\n",
       " 'Description',\n",
       " 'Max_Quantity_CustomerID',\n",
       " 'Max_Quantity_Description',\n",
       " 'Quantity',\n",
       " 'Quantity_zscore']"
      ]
     },
     "execution_count": 93,
     "metadata": {},
     "output_type": "execute_result"
    }
   ],
   "source": [
    "num_attribute = X.select_dtypes(include='number').columns.tolist()\n",
    "num_attribute"
   ]
  },
  {
   "cell_type": "code",
   "execution_count": 94,
   "metadata": {},
   "outputs": [
    {
     "name": "stderr",
     "output_type": "stream",
     "text": [
      "<ipython-input-94-1d6ca7ab9992>:5: SettingWithCopyWarning: \n",
      "A value is trying to be set on a copy of a slice from a DataFrame.\n",
      "Try using .loc[row_indexer,col_indexer] = value instead\n",
      "\n",
      "See the caveats in the documentation: https://pandas.pydata.org/pandas-docs/stable/user_guide/indexing.html#returning-a-view-versus-a-copy\n",
      "  X[num_attribute] = standardizer.transform(X[num_attribute])\n",
      "C:\\Users\\Tejasvi\\anaconda3\\lib\\site-packages\\pandas\\core\\indexing.py:1738: SettingWithCopyWarning: \n",
      "A value is trying to be set on a copy of a slice from a DataFrame.\n",
      "Try using .loc[row_indexer,col_indexer] = value instead\n",
      "\n",
      "See the caveats in the documentation: https://pandas.pydata.org/pandas-docs/stable/user_guide/indexing.html#returning-a-view-versus-a-copy\n",
      "  self._setitem_single_column(loc, value[:, i].tolist(), pi)\n"
     ]
    }
   ],
   "source": [
    "## Standardization\n",
    "from sklearn.preprocessing import StandardScaler\n",
    "standardizer = StandardScaler()\n",
    "standardizer.fit(X[num_attribute])\n",
    "X[num_attribute] = standardizer.transform(X[num_attribute])"
   ]
  },
  {
   "cell_type": "code",
   "execution_count": 95,
   "metadata": {},
   "outputs": [],
   "source": [
    "testdata[num_attribute] =standardizer.transform(testdata[num_attribute])"
   ]
  },
  {
   "cell_type": "markdown",
   "metadata": {},
   "source": [
    "### Dummification"
   ]
  },
  {
   "cell_type": "code",
   "execution_count": 96,
   "metadata": {},
   "outputs": [
    {
     "data": {
      "text/plain": [
       "(284780, 8029)"
      ]
     },
     "execution_count": 96,
     "metadata": {},
     "output_type": "execute_result"
    }
   ],
   "source": [
    "#pd.get_dummies(df, prefix=['A', 'D'], columns=['A', 'D'])\n",
    "\n",
    "X= pd.get_dummies(X, drop_first = True)\n",
    "X.shape"
   ]
  },
  {
   "cell_type": "code",
   "execution_count": 97,
   "metadata": {},
   "outputs": [
    {
     "data": {
      "text/html": [
       "<div>\n",
       "<style scoped>\n",
       "    .dataframe tbody tr th:only-of-type {\n",
       "        vertical-align: middle;\n",
       "    }\n",
       "\n",
       "    .dataframe tbody tr th {\n",
       "        vertical-align: top;\n",
       "    }\n",
       "\n",
       "    .dataframe thead th {\n",
       "        text-align: right;\n",
       "    }\n",
       "</style>\n",
       "<table border=\"1\" class=\"dataframe\">\n",
       "  <thead>\n",
       "    <tr style=\"text-align: right;\">\n",
       "      <th></th>\n",
       "      <th>Avg_Quantity_CustomerID</th>\n",
       "      <th>Avg_Quantity_Description</th>\n",
       "      <th>Description</th>\n",
       "      <th>Max_Quantity_CustomerID</th>\n",
       "      <th>Max_Quantity_Description</th>\n",
       "      <th>Quantity</th>\n",
       "      <th>Quantity_zscore</th>\n",
       "      <th>Country_1</th>\n",
       "      <th>Country_2</th>\n",
       "      <th>Country_3</th>\n",
       "      <th>...</th>\n",
       "      <th>StockCode_3674</th>\n",
       "      <th>StockCode_3675</th>\n",
       "      <th>StockCode_3676</th>\n",
       "      <th>StockCode_3677</th>\n",
       "      <th>StockCode_3678</th>\n",
       "      <th>StockCode_3679</th>\n",
       "      <th>StockCode_3680</th>\n",
       "      <th>StockCode_3681</th>\n",
       "      <th>StockCode_3682</th>\n",
       "      <th>StockCode_3683</th>\n",
       "    </tr>\n",
       "  </thead>\n",
       "  <tbody>\n",
       "    <tr>\n",
       "      <th>0</th>\n",
       "      <td>-0.236655</td>\n",
       "      <td>-0.505627</td>\n",
       "      <td>-1.725030</td>\n",
       "      <td>-0.238446</td>\n",
       "      <td>-0.025890</td>\n",
       "      <td>-0.036083</td>\n",
       "      <td>-0.036083</td>\n",
       "      <td>0</td>\n",
       "      <td>0</td>\n",
       "      <td>0</td>\n",
       "      <td>...</td>\n",
       "      <td>0</td>\n",
       "      <td>0</td>\n",
       "      <td>0</td>\n",
       "      <td>0</td>\n",
       "      <td>0</td>\n",
       "      <td>0</td>\n",
       "      <td>0</td>\n",
       "      <td>0</td>\n",
       "      <td>0</td>\n",
       "      <td>0</td>\n",
       "    </tr>\n",
       "    <tr>\n",
       "      <th>1</th>\n",
       "      <td>0.379013</td>\n",
       "      <td>-0.397804</td>\n",
       "      <td>1.521407</td>\n",
       "      <td>0.253728</td>\n",
       "      <td>-0.116320</td>\n",
       "      <td>-0.025915</td>\n",
       "      <td>-0.025915</td>\n",
       "      <td>0</td>\n",
       "      <td>0</td>\n",
       "      <td>0</td>\n",
       "      <td>...</td>\n",
       "      <td>0</td>\n",
       "      <td>0</td>\n",
       "      <td>0</td>\n",
       "      <td>0</td>\n",
       "      <td>0</td>\n",
       "      <td>0</td>\n",
       "      <td>0</td>\n",
       "      <td>0</td>\n",
       "      <td>0</td>\n",
       "      <td>0</td>\n",
       "    </tr>\n",
       "    <tr>\n",
       "      <th>2</th>\n",
       "      <td>-0.177558</td>\n",
       "      <td>-0.583539</td>\n",
       "      <td>-0.077954</td>\n",
       "      <td>-0.191572</td>\n",
       "      <td>-0.144506</td>\n",
       "      <td>-0.032693</td>\n",
       "      <td>-0.032693</td>\n",
       "      <td>0</td>\n",
       "      <td>0</td>\n",
       "      <td>0</td>\n",
       "      <td>...</td>\n",
       "      <td>0</td>\n",
       "      <td>0</td>\n",
       "      <td>0</td>\n",
       "      <td>0</td>\n",
       "      <td>0</td>\n",
       "      <td>0</td>\n",
       "      <td>0</td>\n",
       "      <td>0</td>\n",
       "      <td>0</td>\n",
       "      <td>0</td>\n",
       "    </tr>\n",
       "    <tr>\n",
       "      <th>3</th>\n",
       "      <td>-0.271874</td>\n",
       "      <td>0.241009</td>\n",
       "      <td>0.880011</td>\n",
       "      <td>-0.252508</td>\n",
       "      <td>-0.022367</td>\n",
       "      <td>-0.042861</td>\n",
       "      <td>-0.042861</td>\n",
       "      <td>0</td>\n",
       "      <td>0</td>\n",
       "      <td>0</td>\n",
       "      <td>...</td>\n",
       "      <td>0</td>\n",
       "      <td>0</td>\n",
       "      <td>0</td>\n",
       "      <td>0</td>\n",
       "      <td>0</td>\n",
       "      <td>0</td>\n",
       "      <td>0</td>\n",
       "      <td>0</td>\n",
       "      <td>0</td>\n",
       "      <td>0</td>\n",
       "    </tr>\n",
       "    <tr>\n",
       "      <th>4</th>\n",
       "      <td>-0.030321</td>\n",
       "      <td>-0.184325</td>\n",
       "      <td>0.791004</td>\n",
       "      <td>-0.196260</td>\n",
       "      <td>-0.088134</td>\n",
       "      <td>-0.005578</td>\n",
       "      <td>-0.005578</td>\n",
       "      <td>0</td>\n",
       "      <td>0</td>\n",
       "      <td>0</td>\n",
       "      <td>...</td>\n",
       "      <td>0</td>\n",
       "      <td>0</td>\n",
       "      <td>0</td>\n",
       "      <td>0</td>\n",
       "      <td>0</td>\n",
       "      <td>0</td>\n",
       "      <td>0</td>\n",
       "      <td>0</td>\n",
       "      <td>0</td>\n",
       "      <td>0</td>\n",
       "    </tr>\n",
       "  </tbody>\n",
       "</table>\n",
       "<p>5 rows × 8029 columns</p>\n",
       "</div>"
      ],
      "text/plain": [
       "   Avg_Quantity_CustomerID  Avg_Quantity_Description  Description  \\\n",
       "0                -0.236655                 -0.505627    -1.725030   \n",
       "1                 0.379013                 -0.397804     1.521407   \n",
       "2                -0.177558                 -0.583539    -0.077954   \n",
       "3                -0.271874                  0.241009     0.880011   \n",
       "4                -0.030321                 -0.184325     0.791004   \n",
       "\n",
       "   Max_Quantity_CustomerID  Max_Quantity_Description  Quantity  \\\n",
       "0                -0.238446                 -0.025890 -0.036083   \n",
       "1                 0.253728                 -0.116320 -0.025915   \n",
       "2                -0.191572                 -0.144506 -0.032693   \n",
       "3                -0.252508                 -0.022367 -0.042861   \n",
       "4                -0.196260                 -0.088134 -0.005578   \n",
       "\n",
       "   Quantity_zscore  Country_1  Country_2  Country_3  ...  StockCode_3674  \\\n",
       "0        -0.036083          0          0          0  ...               0   \n",
       "1        -0.025915          0          0          0  ...               0   \n",
       "2        -0.032693          0          0          0  ...               0   \n",
       "3        -0.042861          0          0          0  ...               0   \n",
       "4        -0.005578          0          0          0  ...               0   \n",
       "\n",
       "   StockCode_3675  StockCode_3676  StockCode_3677  StockCode_3678  \\\n",
       "0               0               0               0               0   \n",
       "1               0               0               0               0   \n",
       "2               0               0               0               0   \n",
       "3               0               0               0               0   \n",
       "4               0               0               0               0   \n",
       "\n",
       "   StockCode_3679  StockCode_3680  StockCode_3681  StockCode_3682  \\\n",
       "0               0               0               0               0   \n",
       "1               0               0               0               0   \n",
       "2               0               0               0               0   \n",
       "3               0               0               0               0   \n",
       "4               0               0               0               0   \n",
       "\n",
       "   StockCode_3683  \n",
       "0               0  \n",
       "1               0  \n",
       "2               0  \n",
       "3               0  \n",
       "4               0  \n",
       "\n",
       "[5 rows x 8029 columns]"
      ]
     },
     "execution_count": 97,
     "metadata": {},
     "output_type": "execute_result"
    }
   ],
   "source": [
    "X.head()"
   ]
  },
  {
   "cell_type": "code",
   "execution_count": 98,
   "metadata": {},
   "outputs": [
    {
     "data": {
      "text/plain": [
       "(122049, 7707)"
      ]
     },
     "execution_count": 98,
     "metadata": {},
     "output_type": "execute_result"
    }
   ],
   "source": [
    "testdata = pd.get_dummies(testdata, drop_first = True)\n",
    "testdata.shape"
   ]
  },
  {
   "cell_type": "code",
   "execution_count": 99,
   "metadata": {},
   "outputs": [],
   "source": [
    "## Split the data into X_train, X_valid, y_train, y_valid with test_size = 0.20 using sklearn\n",
    "from sklearn.model_selection import train_test_split\n",
    "X_train, X_valid, y_train, y_valid = train_test_split(X, y, test_size=0.30,random_state=1234)"
   ]
  },
  {
   "cell_type": "markdown",
   "metadata": {},
   "source": [
    "## modelling"
   ]
  },
  {
   "cell_type": "markdown",
   "metadata": {},
   "source": [
    "### Liner Regression"
   ]
  },
  {
   "cell_type": "code",
   "execution_count": 100,
   "metadata": {},
   "outputs": [],
   "source": [
    "from sklearn.metrics import mean_squared_error\n",
    "import math"
   ]
  },
  {
   "cell_type": "code",
   "execution_count": 102,
   "metadata": {},
   "outputs": [],
   "source": [
    "from sklearn.linear_model import LinearRegression\n",
    "model_1 = LinearRegression()\n",
    "model_1.fit(X_train, y_train)"
   ]
  },
  {
   "cell_type": "code",
   "execution_count": null,
   "metadata": {},
   "outputs": [],
   "source": [
    "#print('Coefficients: \\n', model_1.coef_)\n",
    "#coefficients = pd.DataFrame({'name':list(X_train),'value':model_1.coef_})\n",
    "#coefficients"
   ]
  },
  {
   "cell_type": "code",
   "execution_count": null,
   "metadata": {},
   "outputs": [],
   "source": [
    "y_pred = model_1.predict(X_train)\n",
    "\n",
    "mse = mean_squared_error(y_train, y_pred)\n",
    "\n",
    "rmse = math.sqrt(mse)"
   ]
  },
  {
   "cell_type": "code",
   "execution_count": null,
   "metadata": {},
   "outputs": [],
   "source": [
    "rmse"
   ]
  },
  {
   "cell_type": "code",
   "execution_count": null,
   "metadata": {},
   "outputs": [],
   "source": [
    "valid_pred = model_1.predict(X_valid)\n",
    "\n",
    "mse = mean_squared_error(y_valid, valid_pred)\n",
    "rmse = math.sqrt(mse)\n",
    "rmse"
   ]
  },
  {
   "cell_type": "code",
   "execution_count": 69,
   "metadata": {},
   "outputs": [
    {
     "data": {
      "text/plain": [
       "array([2.757434  , 0.27847642, 6.59052577, ..., 0.18499347, 7.36567533,\n",
       "       5.55573574])"
      ]
     },
     "execution_count": 69,
     "metadata": {},
     "output_type": "execute_result"
    }
   ],
   "source": [
    "valid_pred"
   ]
  },
  {
   "cell_type": "code",
   "execution_count": 1,
   "metadata": {},
   "outputs": [],
   "source": [
    "# import lightgbm as lgbm"
   ]
  },
  {
   "cell_type": "code",
   "execution_count": null,
   "metadata": {},
   "outputs": [],
   "source": [
    "def run_LGBM(train, target):\n",
    "    \n",
    "    X_train, X_valid, y_train, y_valid= train_test_split(train, target, test_size= 0.25, random_state= 2019)\n",
    "    #X_train, X_valid, y_train, y_valid = train_test_split(X, y, test_size=0.30,random_state=1234)\n",
    "    param= {}\n",
    "    param['learning_rate']= 0.01\n",
    "    param['objective']= 'regression'\n",
    "    param['metric']= 'rmse'\n",
    "    #param['boosting']= 'dart'\n",
    "    param['num_leaves']= 32\n",
    "    #param['tree_learner']= 'voting'\n",
    "    param['num_threads']= 7\n",
    "    param['max_depth']= 6\n",
    "    param['bagging_fraction']= 0.8\n",
    "    param['feature_fraction']= 0.8\n",
    "    param['seed']= 2019\n",
    "    \n",
    "    #X_train, X_test, y_train, y_test= train_test_split(train, target, test_size= 0.25, random_state= 2019)\n",
    "    \n",
    "    dtrain= lgbm.Dataset(X_train, y_train)\n",
    "    dtest= lgbm.Dataset(X_valid, y_valid)\n",
    "    \n",
    "    model= lgbm.train(param, dtrain, num_boost_round= 10000, valid_sets= (dtrain, dtest), valid_names= ('train', 'valid'), \n",
    "                      verbose_eval= 100, early_stopping_rounds= 50)\n",
    "    \n",
    "    prediction= model.predict(X_valid)\n",
    "    \n",
    "    print('Checking Metrics...')\n",
    "    print('r2_squared Error: {:.4f}' .format(r2_score(y_valid, prediction)))\n",
    "    print('MSE: {:.4f}' .format(mean_squared_error(y_valid, prediction)))\n",
    "    print('RMSE: {:.4f}' .format(np.sqrt(mean_squared_error(y_valid, prediction))))\n",
    "    \n",
    "    return model"
   ]
  },
  {
   "cell_type": "code",
   "execution_count": null,
   "metadata": {},
   "outputs": [],
   "source": [
    "model_lgbm= run_LGBM(X, y)"
   ]
  },
  {
   "cell_type": "code",
   "execution_count": null,
   "metadata": {},
   "outputs": [],
   "source": [
    "#### ANN"
   ]
  },
  {
   "cell_type": "code",
   "execution_count": 103,
   "metadata": {},
   "outputs": [],
   "source": [
    "from keras.models import Sequential\n",
    "from keras.layers import Dense\n",
    "from keras.wrappers.scikit_learn import KerasRegressor\n",
    "from sklearn.model_selection import cross_val_score\n",
    "from sklearn.model_selection import KFold\n",
    "from sklearn.preprocessing import StandardScaler\n",
    "from sklearn.pipeline import Pipeline"
   ]
  },
  {
   "cell_type": "code",
   "execution_count": 104,
   "metadata": {},
   "outputs": [],
   "source": [
    "from tensorflow import keras"
   ]
  },
  {
   "cell_type": "code",
   "execution_count": 105,
   "metadata": {},
   "outputs": [],
   "source": [
    "from keras.models import Sequential \n",
    "from keras.layers import Dense"
   ]
  },
  {
   "cell_type": "code",
   "execution_count": null,
   "metadata": {},
   "outputs": [],
   "source": [
    "# 'to_categorical' converts the class lebels to one-hot vectors. One-hot vector is nothing but dummifying in R.\n",
    "from keras.utils import to_categorical\n",
    "y_train = to_categorical(y_train1)\n",
    "y_test = to_categorical(y_test1)\n",
    "print('y_train shape: {}'.format(y_train.shape))"
   ]
  },
  {
   "cell_type": "code",
   "execution_count": null,
   "metadata": {},
   "outputs": [],
   "source": [
    "def baseline_model():\n",
    "\t# create model\n",
    "\tmodel = Sequential()\n",
    "\tmodel.add(Dense(13, input_dim=13, kernel_initializer='normal', activation='relu'))\n",
    "\tmodel.add(Dense(1, kernel_initializer='normal'))\n",
    "\t# Compile model\n",
    "\tmodel.compile(loss='mean_squared_error', optimizer='adam')\n",
    "\treturn model"
   ]
  },
  {
   "cell_type": "code",
   "execution_count": null,
   "metadata": {},
   "outputs": [],
   "source": [
    "model = Sequential() # This initializes a sequential model to which we can keep adding layers.\n",
    "model.add(Dense(200, kernel_initializer='random_uniform', \n",
    "                input_dim = 74, activation='relu')) # Add a dense layer \n",
    "model.add(Dense(1, kernel_initializer='uniform', \n",
    "                activation='relu')) # Add output layer"
   ]
  },
  {
   "cell_type": "code",
   "execution_count": null,
   "metadata": {},
   "outputs": [],
   "source": [
    "from keras.optimizers import Adam, SGD\n",
    "#from keras.callbacks import EarlyStopping\n",
    "\n",
    "adam = Adam(lr=0.0001)\n",
    "sgd = SGD(lr=0.0011, decay=1e-6, momentum=0.9, nesterov=True)\n",
    "#callbacks\n",
    "#earlystopper = EarlyStopping(monitor='val_loss', patience=10, verbose=1)\n",
    "\n",
    "model.compile(loss='mean_squared_error', # CrossEntropy is the loss function. \n",
    "              optimizer=adam, metrics=[RootMeanSquaredError()])            # Mention the optimizer\n",
    "                                # Mention the metric to be printed while training"
   ]
  },
  {
   "cell_type": "code",
   "execution_count": null,
   "metadata": {},
   "outputs": [],
   "source": [
    "nb_epochs = 100\n",
    "# training the MLP model\n",
    "history = model.fit(X_train, y_train, epochs=nb_epochs, batch_size=64, class_weight=class_weight) "
   ]
  },
  {
   "cell_type": "code",
   "execution_count": 82,
   "metadata": {},
   "outputs": [],
   "source": [
    "from sklearn.ensemble import RandomForestRegressor\n"
   ]
  },
  {
   "cell_type": "code",
   "execution_count": 83,
   "metadata": {},
   "outputs": [],
   "source": [
    "rfr_10 = RandomForestRegressor()\n"
   ]
  },
  {
   "cell_type": "code",
   "execution_count": 84,
   "metadata": {},
   "outputs": [
    {
     "data": {
      "text/plain": [
       "RandomForestRegressor()"
      ]
     },
     "execution_count": 84,
     "metadata": {},
     "output_type": "execute_result"
    }
   ],
   "source": [
    "rfr_10.fit(X_train,y_train)\n"
   ]
  },
  {
   "cell_type": "code",
   "execution_count": null,
   "metadata": {},
   "outputs": [],
   "source": []
  },
  {
   "cell_type": "code",
   "execution_count": 106,
   "metadata": {},
   "outputs": [],
   "source": [
    "# Model initilization\n",
    "# Model training\n",
    "# Model predictions\n",
    "rfr10_train_pred = rfr_10.predict(X_train)\n",
    "rfr10_test_pred = rfr_10.predict(X_valid)"
   ]
  },
  {
   "cell_type": "code",
   "execution_count": 98,
   "metadata": {},
   "outputs": [
    {
     "data": {
      "text/plain": [
       "24.912127860806553"
      ]
     },
     "execution_count": 98,
     "metadata": {},
     "output_type": "execute_result"
    }
   ],
   "source": [
    "mse = mean_squared_error(y_train, rfr10_train_pred)\n",
    "rmse = math.sqrt(mse)\n",
    "rmse"
   ]
  },
  {
   "cell_type": "code",
   "execution_count": 99,
   "metadata": {},
   "outputs": [
    {
     "data": {
      "text/plain": [
       "43.29622438029096"
      ]
     },
     "execution_count": 99,
     "metadata": {},
     "output_type": "execute_result"
    }
   ],
   "source": [
    "mse = mean_squared_error(y_valid, rfr10_test_pred)\n",
    "rmse = math.sqrt(mse)\n",
    "rmse"
   ]
  },
  {
   "cell_type": "code",
   "execution_count": null,
   "metadata": {},
   "outputs": [],
   "source": []
  },
  {
   "cell_type": "code",
   "execution_count": null,
   "metadata": {},
   "outputs": [],
   "source": [
    "from sklearn.ensemble import RandomForestRegressor\n",
    "from sklearn.model_selection import RandomizedSearchCV"
   ]
  },
  {
   "cell_type": "code",
   "execution_count": null,
   "metadata": {},
   "outputs": [],
   "source": [
    "rfc_grid = RandomForestRegressor(n_jobs=-1, max_features='sqrt')\n",
    "param_grid = param_grid = {\"n_estimators\" : [10, 25, 50, 75, 100], 'max_leaf_nodes': np.arange(5,30,2),\n",
    "             'min_samples_split': np.arange(2,10,1),\n",
    "             'max_depth':np.arange(5,20,2),\n",
    "             'min_weight_fraction_leaf':np.arange(0.01,0.25,0.005)}"
   ]
  },
  {
   "cell_type": "code",
   "execution_count": 107,
   "metadata": {},
   "outputs": [],
   "source": [
    "rfc_cv_grid = RandomizedSearchCV(estimator = rfc_grid, param_distributions = param_grid, cv = 3, n_iter=10)\n",
    "rfc_cv_grid.fit(X_train, y_train)  \n",
    "rfc_cv_grid.best_estimator_"
   ]
  },
  {
   "cell_type": "code",
   "execution_count": 101,
   "metadata": {},
   "outputs": [],
   "source": [
    "preds1=rfr_10.predict(testdata)"
   ]
  },
  {
   "cell_type": "code",
   "execution_count": 102,
   "metadata": {},
   "outputs": [],
   "source": [
    "pred1 = pd.DataFrame({'UnitPrice': preds1})"
   ]
  },
  {
   "cell_type": "code",
   "execution_count": 103,
   "metadata": {},
   "outputs": [],
   "source": [
    "pred1.to_csv('rf_new.csv',index=False)"
   ]
  },
  {
   "cell_type": "code",
   "execution_count": null,
   "metadata": {},
   "outputs": [],
   "source": [
    "len(preds1)"
   ]
  }
 ],
 "metadata": {
  "kernelspec": {
   "display_name": "Python 3",
   "language": "python",
   "name": "python3"
  },
  "language_info": {
   "codemirror_mode": {
    "name": "ipython",
    "version": 3
   },
   "file_extension": ".py",
   "mimetype": "text/x-python",
   "name": "python",
   "nbconvert_exporter": "python",
   "pygments_lexer": "ipython3",
   "version": "3.8.8"
  }
 },
 "nbformat": 4,
 "nbformat_minor": 4
}
